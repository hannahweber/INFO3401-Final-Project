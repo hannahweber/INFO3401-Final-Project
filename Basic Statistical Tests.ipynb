{
 "cells": [
  {
   "cell_type": "code",
   "execution_count": 1,
   "metadata": {},
   "outputs": [
    {
     "data": {
      "text/plain": [
       "RendererRegistry.enable('notebook')"
      ]
     },
     "execution_count": 1,
     "metadata": {},
     "output_type": "execute_result"
    }
   ],
   "source": [
    "import pandas as pd\n",
    "import numpy as np\n",
    "import matplotlib.pyplot as plt\n",
    "import altair as alt\n",
    "alt.renderers.enable('notebook')"
   ]
  },
  {
   "cell_type": "code",
   "execution_count": 2,
   "metadata": {},
   "outputs": [],
   "source": [
    "df_raw = pd.read_csv(\"2018 NCWIT Award for Aspirations in Computing Recipient.csv\")"
   ]
  },
  {
   "cell_type": "markdown",
   "metadata": {},
   "source": [
    "## Question 3"
   ]
  },
  {
   "cell_type": "code",
   "execution_count": 3,
   "metadata": {},
   "outputs": [],
   "source": [
    "q3 = pd.read_csv('Question3Code.csv')"
   ]
  },
  {
   "cell_type": "code",
   "execution_count": 4,
   "metadata": {},
   "outputs": [
    {
     "data": {
      "text/html": [
       "<div>\n",
       "<style scoped>\n",
       "    .dataframe tbody tr th:only-of-type {\n",
       "        vertical-align: middle;\n",
       "    }\n",
       "\n",
       "    .dataframe tbody tr th {\n",
       "        vertical-align: top;\n",
       "    }\n",
       "\n",
       "    .dataframe thead th {\n",
       "        text-align: right;\n",
       "    }\n",
       "</style>\n",
       "<table border=\"1\" class=\"dataframe\">\n",
       "  <thead>\n",
       "    <tr style=\"text-align: right;\">\n",
       "      <th></th>\n",
       "      <th>Respondent ID</th>\n",
       "      <th>If you did not attend an event, please let us know why.</th>\n",
       "      <th>CODE</th>\n",
       "    </tr>\n",
       "  </thead>\n",
       "  <tbody>\n",
       "    <tr>\n",
       "      <th>0</th>\n",
       "      <td>6928372992</td>\n",
       "      <td>I don't think that I was supposed to go.</td>\n",
       "      <td>dk</td>\n",
       "    </tr>\n",
       "    <tr>\n",
       "      <th>1</th>\n",
       "      <td>6921763051</td>\n",
       "      <td>I wasn't recognized until after the events hap...</td>\n",
       "      <td>ra</td>\n",
       "    </tr>\n",
       "    <tr>\n",
       "      <th>3</th>\n",
       "      <td>6920022402</td>\n",
       "      <td>I was not asked to</td>\n",
       "      <td>na</td>\n",
       "    </tr>\n",
       "    <tr>\n",
       "      <th>4</th>\n",
       "      <td>6918387583</td>\n",
       "      <td>There was not enough room for me.</td>\n",
       "      <td>p</td>\n",
       "    </tr>\n",
       "    <tr>\n",
       "      <th>5</th>\n",
       "      <td>6918090577</td>\n",
       "      <td>I did not know they were occurring.</td>\n",
       "      <td>dk</td>\n",
       "    </tr>\n",
       "  </tbody>\n",
       "</table>\n",
       "</div>"
      ],
      "text/plain": [
       "   Respondent ID If you did not attend an event, please let us know why. CODE\n",
       "0     6928372992           I don't think that I was supposed to go.        dk\n",
       "1     6921763051  I wasn't recognized until after the events hap...        ra\n",
       "3     6920022402                                 I was not asked to        na\n",
       "4     6918387583                  There was not enough room for me.         p\n",
       "5     6918090577               I did not know they were occurring.         dk"
      ]
     },
     "execution_count": 4,
     "metadata": {},
     "output_type": "execute_result"
    }
   ],
   "source": [
    "q3 = q3.dropna()\n",
    "q3.head()"
   ]
  },
  {
   "cell_type": "code",
   "execution_count": 5,
   "metadata": {},
   "outputs": [
    {
     "data": {
      "text/plain": [
       "array(['dk', 'ra', 'na', 'p', 'con', 'nq', 'tp', 'ni'], dtype=object)"
      ]
     },
     "execution_count": 5,
     "metadata": {},
     "output_type": "execute_result"
    }
   ],
   "source": [
    "q3['CODE'].unique()"
   ]
  },
  {
   "cell_type": "code",
   "execution_count": 6,
   "metadata": {},
   "outputs": [
    {
     "data": {
      "text/html": [
       "<div>\n",
       "<style scoped>\n",
       "    .dataframe tbody tr th:only-of-type {\n",
       "        vertical-align: middle;\n",
       "    }\n",
       "\n",
       "    .dataframe tbody tr th {\n",
       "        vertical-align: top;\n",
       "    }\n",
       "\n",
       "    .dataframe thead th {\n",
       "        text-align: right;\n",
       "    }\n",
       "</style>\n",
       "<table border=\"1\" class=\"dataframe\">\n",
       "  <thead>\n",
       "    <tr style=\"text-align: right;\">\n",
       "      <th></th>\n",
       "      <th>Respondent ID</th>\n",
       "      <th>CODE Ex</th>\n",
       "    </tr>\n",
       "    <tr>\n",
       "      <th>CODE</th>\n",
       "      <th></th>\n",
       "      <th></th>\n",
       "    </tr>\n",
       "  </thead>\n",
       "  <tbody>\n",
       "    <tr>\n",
       "      <th>con</th>\n",
       "      <td>376</td>\n",
       "      <td>Conflict</td>\n",
       "    </tr>\n",
       "    <tr>\n",
       "      <th>tp</th>\n",
       "      <td>62</td>\n",
       "      <td>Problems with Travel</td>\n",
       "    </tr>\n",
       "    <tr>\n",
       "      <th>dk</th>\n",
       "      <td>55</td>\n",
       "      <td>Didn't Know About It</td>\n",
       "    </tr>\n",
       "    <tr>\n",
       "      <th>na</th>\n",
       "      <td>46</td>\n",
       "      <td>Not Asked To Go</td>\n",
       "    </tr>\n",
       "    <tr>\n",
       "      <th>nq</th>\n",
       "      <td>38</td>\n",
       "      <td>Not Qualified</td>\n",
       "    </tr>\n",
       "    <tr>\n",
       "      <th>p</th>\n",
       "      <td>28</td>\n",
       "      <td>Problems With Process</td>\n",
       "    </tr>\n",
       "    <tr>\n",
       "      <th>ni</th>\n",
       "      <td>9</td>\n",
       "      <td>Not Interested</td>\n",
       "    </tr>\n",
       "    <tr>\n",
       "      <th>ra</th>\n",
       "      <td>8</td>\n",
       "      <td>Recognized After Ceremony</td>\n",
       "    </tr>\n",
       "  </tbody>\n",
       "</table>\n",
       "</div>"
      ],
      "text/plain": [
       "      Respondent ID                    CODE Ex\n",
       "CODE                                          \n",
       "con             376                   Conflict\n",
       "tp               62       Problems with Travel\n",
       "dk               55       Didn't Know About It\n",
       "na               46            Not Asked To Go\n",
       "nq               38              Not Qualified\n",
       "p                28      Problems With Process\n",
       "ni                9             Not Interested\n",
       "ra                8  Recognized After Ceremony"
      ]
     },
     "execution_count": 6,
     "metadata": {},
     "output_type": "execute_result"
    }
   ],
   "source": [
    "q3_gb = q3.groupby('CODE')\n",
    "agg_d = {'Respondent ID' : 'count'}\n",
    "q3_agg = q3_gb.agg(agg_d)\n",
    "q3_agg['CODE Ex'] = [\"Conflict\", \"Didn't Know About It\", \"Not Asked To Go\", \"Not Interested\", \n",
    "                    \"Not Qualified\", \"Problems With Process\", \"Recognized After Ceremony\", \n",
    "                    \"Problems with Travel\"]\n",
    "q3_agg = q3_agg.sort_values('Respondent ID', ascending = False)\n",
    "q3_agg"
   ]
  },
  {
   "cell_type": "code",
   "execution_count": 7,
   "metadata": {},
   "outputs": [
    {
     "data": {
      "text/plain": [
       "Text(0,0.5,'Number of Respondents')"
      ]
     },
     "execution_count": 7,
     "metadata": {},
     "output_type": "execute_result"
    },
    {
     "data": {
      "image/png": "[encoded data removed]",
      "text/plain": [
       "<matplotlib.figure.Figure at 0x10d3d7da0>"
      ]
     },
     "metadata": {
      "needs_background": "light"
     },
     "output_type": "display_data"
    }
   ],
   "source": [
    "ax = q3_agg.plot('CODE Ex', 'Respondent ID', kind = 'bar')\n",
    "ax.legend_.remove()\n",
    "\n",
    "plt.xlabel('Code')\n",
    "plt.ylabel('Number of Respondents')"
   ]
  },
  {
   "cell_type": "markdown",
   "metadata": {},
   "source": [
    "## Question 5"
   ]
  },
  {
   "cell_type": "code",
   "execution_count": 8,
   "metadata": {
    "scrolled": true
   },
   "outputs": [
    {
     "data": {
      "text/html": [
       "<div>\n",
       "<style scoped>\n",
       "    .dataframe tbody tr th:only-of-type {\n",
       "        vertical-align: middle;\n",
       "    }\n",
       "\n",
       "    .dataframe tbody tr th {\n",
       "        vertical-align: top;\n",
       "    }\n",
       "\n",
       "    .dataframe thead th {\n",
       "        text-align: right;\n",
       "    }\n",
       "</style>\n",
       "<table border=\"1\" class=\"dataframe\">\n",
       "  <thead>\n",
       "    <tr style=\"text-align: right;\">\n",
       "      <th></th>\n",
       "      <th>Respondent ID</th>\n",
       "    </tr>\n",
       "    <tr>\n",
       "      <th>Have you joined the NCWIT Aspirations in Computing Facebook group?</th>\n",
       "      <th></th>\n",
       "    </tr>\n",
       "  </thead>\n",
       "  <tbody>\n",
       "    <tr>\n",
       "      <th>No</th>\n",
       "      <td>976</td>\n",
       "    </tr>\n",
       "    <tr>\n",
       "      <th>Yes</th>\n",
       "      <td>666</td>\n",
       "    </tr>\n",
       "  </tbody>\n",
       "</table>\n",
       "</div>"
      ],
      "text/plain": [
       "                                                    Respondent ID\n",
       "Have you joined the NCWIT Aspirations in Comput...               \n",
       "No                                                            976\n",
       "Yes                                                           666"
      ]
     },
     "execution_count": 8,
     "metadata": {},
     "output_type": "execute_result"
    }
   ],
   "source": [
    "df_gb_5 = df_raw.groupby('Have you joined the NCWIT Aspirations in Computing Facebook group?')\n",
    "#agg_d = {'Have you joined the NCWIT Aspirations in Computing Facebook group?' : 'count'}\n",
    "agg_d = {'Respondent ID' : 'count'}\n",
    "df_agg_5 = df_gb_5.agg(agg_d)\n",
    "df_agg_5 = df_agg_5.drop('Response')\n",
    "df_agg_5"
   ]
  },
  {
   "cell_type": "code",
   "execution_count": 9,
   "metadata": {},
   "outputs": [
    {
     "data": {
      "text/plain": [
       "([<matplotlib.patches.Wedge at 0x10d9151d0>,\n",
       "  <matplotlib.patches.Wedge at 0x10d9158d0>],\n",
       " [Text(-1.07111,-0.327297,'No'), Text(1.05198,0.321452,'Yes')],\n",
       " [Text(-0.592936,-0.181182,'59.4%'), Text(0.573809,0.175338,'40.6%')])"
      ]
     },
     "execution_count": 9,
     "metadata": {},
     "output_type": "execute_result"
    },
    {
     "data": {
      "image/png": "[encoded data removed]",
      "text/plain": [
       "<matplotlib.figure.Figure at 0x10d889240>"
      ]
     },
     "metadata": {},
     "output_type": "display_data"
    }
   ],
   "source": [
    "plt.pie(df_agg_5, explode = [0.02, 0.0], labels = ['No', 'Yes'], autopct = '%1.1f%%', startangle = 90)"
   ]
  },
  {
   "cell_type": "markdown",
   "metadata": {},
   "source": [
    "## Question 6"
   ]
  },
  {
   "cell_type": "code",
   "execution_count": 10,
   "metadata": {},
   "outputs": [],
   "source": [
    "q6 = pd.read_csv('Question6Code.csv')"
   ]
  },
  {
   "cell_type": "code",
   "execution_count": 11,
   "metadata": {},
   "outputs": [
    {
     "data": {
      "text/html": [
       "<div>\n",
       "<style scoped>\n",
       "    .dataframe tbody tr th:only-of-type {\n",
       "        vertical-align: middle;\n",
       "    }\n",
       "\n",
       "    .dataframe tbody tr th {\n",
       "        vertical-align: top;\n",
       "    }\n",
       "\n",
       "    .dataframe thead th {\n",
       "        text-align: right;\n",
       "    }\n",
       "</style>\n",
       "<table border=\"1\" class=\"dataframe\">\n",
       "  <thead>\n",
       "    <tr style=\"text-align: right;\">\n",
       "      <th></th>\n",
       "      <th>Respondent ID</th>\n",
       "      <th>In order to improve our program, please tell us why you have not joined the Facebook Group.</th>\n",
       "      <th>CODE</th>\n",
       "    </tr>\n",
       "  </thead>\n",
       "  <tbody>\n",
       "    <tr>\n",
       "      <th>1</th>\n",
       "      <td>6.928373e+09</td>\n",
       "      <td>I did not know that there was a Facebook group...</td>\n",
       "      <td>dk</td>\n",
       "    </tr>\n",
       "    <tr>\n",
       "      <th>2</th>\n",
       "      <td>6.921763e+09</td>\n",
       "      <td>I actually did not have a Facebook at the time...</td>\n",
       "      <td>nf</td>\n",
       "    </tr>\n",
       "    <tr>\n",
       "      <th>5</th>\n",
       "      <td>6.918388e+09</td>\n",
       "      <td>I do not use Facebook. Most people my age have...</td>\n",
       "      <td>nf</td>\n",
       "    </tr>\n",
       "    <tr>\n",
       "      <th>6</th>\n",
       "      <td>6.918091e+09</td>\n",
       "      <td>I do not have a Facebook account.</td>\n",
       "      <td>nf</td>\n",
       "    </tr>\n",
       "    <tr>\n",
       "      <th>7</th>\n",
       "      <td>6.917209e+09</td>\n",
       "      <td>I have not joined the Facebook group because I...</td>\n",
       "      <td>nf</td>\n",
       "    </tr>\n",
       "  </tbody>\n",
       "</table>\n",
       "</div>"
      ],
      "text/plain": [
       "   Respondent ID  \\\n",
       "1   6.928373e+09   \n",
       "2   6.921763e+09   \n",
       "5   6.918388e+09   \n",
       "6   6.918091e+09   \n",
       "7   6.917209e+09   \n",
       "\n",
       "  In order to improve our program, please tell us why you have not joined the Facebook Group.  \\\n",
       "1  I did not know that there was a Facebook group...                                            \n",
       "2  I actually did not have a Facebook at the time...                                            \n",
       "5  I do not use Facebook. Most people my age have...                                            \n",
       "6                  I do not have a Facebook account.                                            \n",
       "7  I have not joined the Facebook group because I...                                            \n",
       "\n",
       "  CODE  \n",
       "1   dk  \n",
       "2   nf  \n",
       "5   nf  \n",
       "6   nf  \n",
       "7   nf  "
      ]
     },
     "execution_count": 11,
     "metadata": {},
     "output_type": "execute_result"
    }
   ],
   "source": [
    "q6 = q6.dropna()\n",
    "q6.head()"
   ]
  },
  {
   "cell_type": "code",
   "execution_count": 12,
   "metadata": {},
   "outputs": [
    {
     "data": {
      "text/plain": [
       "array(['dk', 'nf', 'na', 'p', 'ni', 'fp'], dtype=object)"
      ]
     },
     "execution_count": 12,
     "metadata": {},
     "output_type": "execute_result"
    }
   ],
   "source": [
    "q6['CODE'].unique()"
   ]
  },
  {
   "cell_type": "code",
   "execution_count": 13,
   "metadata": {},
   "outputs": [
    {
     "data": {
      "text/html": [
       "<div>\n",
       "<style scoped>\n",
       "    .dataframe tbody tr th:only-of-type {\n",
       "        vertical-align: middle;\n",
       "    }\n",
       "\n",
       "    .dataframe tbody tr th {\n",
       "        vertical-align: top;\n",
       "    }\n",
       "\n",
       "    .dataframe thead th {\n",
       "        text-align: right;\n",
       "    }\n",
       "</style>\n",
       "<table border=\"1\" class=\"dataframe\">\n",
       "  <thead>\n",
       "    <tr style=\"text-align: right;\">\n",
       "      <th></th>\n",
       "      <th>CODE</th>\n",
       "      <th>Respondent ID</th>\n",
       "      <th>CODE Ex</th>\n",
       "    </tr>\n",
       "  </thead>\n",
       "  <tbody>\n",
       "    <tr>\n",
       "      <th>3</th>\n",
       "      <td>nf</td>\n",
       "      <td>476</td>\n",
       "      <td>No Facebook</td>\n",
       "    </tr>\n",
       "    <tr>\n",
       "      <th>0</th>\n",
       "      <td>dk</td>\n",
       "      <td>200</td>\n",
       "      <td>Didn't Know About FB</td>\n",
       "    </tr>\n",
       "    <tr>\n",
       "      <th>5</th>\n",
       "      <td>p</td>\n",
       "      <td>99</td>\n",
       "      <td>Problems</td>\n",
       "    </tr>\n",
       "    <tr>\n",
       "      <th>2</th>\n",
       "      <td>na</td>\n",
       "      <td>48</td>\n",
       "      <td>Not Active on FB</td>\n",
       "    </tr>\n",
       "    <tr>\n",
       "      <th>1</th>\n",
       "      <td>fp</td>\n",
       "      <td>45</td>\n",
       "      <td>Forgot</td>\n",
       "    </tr>\n",
       "    <tr>\n",
       "      <th>4</th>\n",
       "      <td>ni</td>\n",
       "      <td>16</td>\n",
       "      <td>Not interested</td>\n",
       "    </tr>\n",
       "  </tbody>\n",
       "</table>\n",
       "</div>"
      ],
      "text/plain": [
       "  CODE  Respondent ID               CODE Ex\n",
       "3   nf            476           No Facebook\n",
       "0   dk            200  Didn't Know About FB\n",
       "5    p             99              Problems\n",
       "2   na             48      Not Active on FB\n",
       "1   fp             45                Forgot\n",
       "4   ni             16        Not interested"
      ]
     },
     "execution_count": 13,
     "metadata": {},
     "output_type": "execute_result"
    }
   ],
   "source": [
    "q6_gb = q6.groupby('CODE')\n",
    "agg_d = {'Respondent ID' : 'count'}\n",
    "q6_agg = q6_gb.agg(agg_d)\n",
    "q6_agg = q6_agg.reset_index()\n",
    "q6_agg['CODE Ex'] = [\"Didn't Know About FB\", \"Forgot\", \"Not Active on FB\", \"No Facebook\", \"Not interested\", \"Problems\"]\n",
    "q6_agg = q6_agg.sort_values('Respondent ID', ascending = False)\n",
    "q6_agg"
   ]
  },
  {
   "cell_type": "code",
   "execution_count": 14,
   "metadata": {},
   "outputs": [
    {
     "data": {
      "text/plain": [
       "Text(0,0.5,'Number of Respondents')"
      ]
     },
     "execution_count": 14,
     "metadata": {},
     "output_type": "execute_result"
    },
    {
     "data": {
      "image/png": "[encoded data removed]",
      "text/plain": [
       "<matplotlib.figure.Figure at 0x10d941978>"
      ]
     },
     "metadata": {
      "needs_background": "light"
     },
     "output_type": "display_data"
    }
   ],
   "source": [
    "ax = q6_agg.plot('CODE Ex', 'Respondent ID', kind = 'bar')\n",
    "ax.legend_.remove()\n",
    "\n",
    "plt.xlabel('Code')\n",
    "plt.ylabel('Number of Respondents')"
   ]
  },
  {
   "cell_type": "markdown",
   "metadata": {},
   "source": [
    "## Question 7"
   ]
  },
  {
   "cell_type": "code",
   "execution_count": 15,
   "metadata": {},
   "outputs": [],
   "source": [
    "q7 = pd.read_csv(\"Question7Code.csv\")"
   ]
  },
  {
   "cell_type": "code",
   "execution_count": 16,
   "metadata": {},
   "outputs": [
    {
     "data": {
      "text/html": [
       "<div>\n",
       "<style scoped>\n",
       "    .dataframe tbody tr th:only-of-type {\n",
       "        vertical-align: middle;\n",
       "    }\n",
       "\n",
       "    .dataframe tbody tr th {\n",
       "        vertical-align: top;\n",
       "    }\n",
       "\n",
       "    .dataframe thead th {\n",
       "        text-align: right;\n",
       "    }\n",
       "</style>\n",
       "<table border=\"1\" class=\"dataframe\">\n",
       "  <thead>\n",
       "    <tr style=\"text-align: right;\">\n",
       "      <th></th>\n",
       "      <th>Respondent ID</th>\n",
       "      <th>What is the best way for NCWIT to communicate opportunities with you?</th>\n",
       "      <th>CODE</th>\n",
       "    </tr>\n",
       "  </thead>\n",
       "  <tbody>\n",
       "    <tr>\n",
       "      <th>0</th>\n",
       "      <td>6.928373e+09</td>\n",
       "      <td>Through email</td>\n",
       "      <td>e</td>\n",
       "    </tr>\n",
       "    <tr>\n",
       "      <th>1</th>\n",
       "      <td>6.921763e+09</td>\n",
       "      <td>Either through email or the Facebook group.</td>\n",
       "      <td>e</td>\n",
       "    </tr>\n",
       "    <tr>\n",
       "      <th>2</th>\n",
       "      <td>6.921763e+09</td>\n",
       "      <td>Either through email or the Facebook group.</td>\n",
       "      <td>fb</td>\n",
       "    </tr>\n",
       "    <tr>\n",
       "      <th>4</th>\n",
       "      <td>6.920022e+09</td>\n",
       "      <td>Email</td>\n",
       "      <td>e</td>\n",
       "    </tr>\n",
       "    <tr>\n",
       "      <th>5</th>\n",
       "      <td>6.918388e+09</td>\n",
       "      <td>They can email my school email.</td>\n",
       "      <td>e</td>\n",
       "    </tr>\n",
       "  </tbody>\n",
       "</table>\n",
       "</div>"
      ],
      "text/plain": [
       "   Respondent ID  \\\n",
       "0   6.928373e+09   \n",
       "1   6.921763e+09   \n",
       "2   6.921763e+09   \n",
       "4   6.920022e+09   \n",
       "5   6.918388e+09   \n",
       "\n",
       "  What is the best way for NCWIT to communicate opportunities with you? CODE  \n",
       "0                                      Through email                       e  \n",
       "1       Either through email or the Facebook group.                        e  \n",
       "2       Either through email or the Facebook group.                       fb  \n",
       "4                                              Email                       e  \n",
       "5                    They can email my school email.                       e  "
      ]
     },
     "execution_count": 16,
     "metadata": {},
     "output_type": "execute_result"
    }
   ],
   "source": [
    "q7 = q7.dropna()\n",
    "q7.head()"
   ]
  },
  {
   "cell_type": "code",
   "execution_count": 17,
   "metadata": {},
   "outputs": [
    {
     "data": {
      "text/plain": [
       "array(['e', 'fb', 't', 'tw', 'gm', 'web', 'p', 'news', 'sm', 'i', 's'],\n",
       "      dtype=object)"
      ]
     },
     "execution_count": 17,
     "metadata": {},
     "output_type": "execute_result"
    }
   ],
   "source": [
    "q7['CODE'].unique()"
   ]
  },
  {
   "cell_type": "code",
   "execution_count": 18,
   "metadata": {},
   "outputs": [
    {
     "data": {
      "text/html": [
       "<div>\n",
       "<style scoped>\n",
       "    .dataframe tbody tr th:only-of-type {\n",
       "        vertical-align: middle;\n",
       "    }\n",
       "\n",
       "    .dataframe tbody tr th {\n",
       "        vertical-align: top;\n",
       "    }\n",
       "\n",
       "    .dataframe thead th {\n",
       "        text-align: right;\n",
       "    }\n",
       "</style>\n",
       "<table border=\"1\" class=\"dataframe\">\n",
       "  <thead>\n",
       "    <tr style=\"text-align: right;\">\n",
       "      <th></th>\n",
       "      <th>CODE</th>\n",
       "      <th>Respondent ID</th>\n",
       "      <th>CODE Ex</th>\n",
       "    </tr>\n",
       "  </thead>\n",
       "  <tbody>\n",
       "    <tr>\n",
       "      <th>0</th>\n",
       "      <td>e</td>\n",
       "      <td>1352</td>\n",
       "      <td>Email</td>\n",
       "    </tr>\n",
       "    <tr>\n",
       "      <th>1</th>\n",
       "      <td>fb</td>\n",
       "      <td>187</td>\n",
       "      <td>Facebook</td>\n",
       "    </tr>\n",
       "    <tr>\n",
       "      <th>8</th>\n",
       "      <td>t</td>\n",
       "      <td>73</td>\n",
       "      <td>Text</td>\n",
       "    </tr>\n",
       "    <tr>\n",
       "      <th>7</th>\n",
       "      <td>sm</td>\n",
       "      <td>24</td>\n",
       "      <td>Social Media</td>\n",
       "    </tr>\n",
       "    <tr>\n",
       "      <th>5</th>\n",
       "      <td>p</td>\n",
       "      <td>21</td>\n",
       "      <td>Phone</td>\n",
       "    </tr>\n",
       "    <tr>\n",
       "      <th>4</th>\n",
       "      <td>news</td>\n",
       "      <td>18</td>\n",
       "      <td>Newsletter</td>\n",
       "    </tr>\n",
       "    <tr>\n",
       "      <th>3</th>\n",
       "      <td>i</td>\n",
       "      <td>13</td>\n",
       "      <td>Instagram</td>\n",
       "    </tr>\n",
       "    <tr>\n",
       "      <th>6</th>\n",
       "      <td>s</td>\n",
       "      <td>11</td>\n",
       "      <td>Schools</td>\n",
       "    </tr>\n",
       "    <tr>\n",
       "      <th>10</th>\n",
       "      <td>web</td>\n",
       "      <td>11</td>\n",
       "      <td>Website</td>\n",
       "    </tr>\n",
       "    <tr>\n",
       "      <th>2</th>\n",
       "      <td>gm</td>\n",
       "      <td>6</td>\n",
       "      <td>Group Messaging</td>\n",
       "    </tr>\n",
       "    <tr>\n",
       "      <th>9</th>\n",
       "      <td>tw</td>\n",
       "      <td>6</td>\n",
       "      <td>Twitter</td>\n",
       "    </tr>\n",
       "  </tbody>\n",
       "</table>\n",
       "</div>"
      ],
      "text/plain": [
       "    CODE  Respondent ID          CODE Ex\n",
       "0      e           1352            Email\n",
       "1     fb            187         Facebook\n",
       "8      t             73             Text\n",
       "7     sm             24     Social Media\n",
       "5      p             21            Phone\n",
       "4   news             18       Newsletter\n",
       "3      i             13        Instagram\n",
       "6      s             11          Schools\n",
       "10   web             11          Website\n",
       "2     gm              6  Group Messaging\n",
       "9     tw              6          Twitter"
      ]
     },
     "execution_count": 18,
     "metadata": {},
     "output_type": "execute_result"
    }
   ],
   "source": [
    "q7_gb = q7.groupby('CODE')\n",
    "agg_d = {'Respondent ID' : 'count'}\n",
    "q7_agg = q7_gb.agg(agg_d)\n",
    "q7_agg = q7_agg.reset_index()\n",
    "q7_agg['CODE Ex'] = ['Email', 'Facebook', 'Group Messaging', 'Instagram', 'Newsletter', 'Phone', 'Schools', \n",
    "                     'Social Media', 'Text', 'Twitter', 'Website']\n",
    "q7_agg = q7_agg.sort_values('Respondent ID', ascending = False)\n",
    "q7_agg"
   ]
  },
  {
   "cell_type": "code",
   "execution_count": 19,
   "metadata": {},
   "outputs": [
    {
     "data": {
      "text/plain": [
       "Text(0,0.5,'Number of Respondents')"
      ]
     },
     "execution_count": 19,
     "metadata": {},
     "output_type": "execute_result"
    },
    {
     "data": {
      "image/png": "[encoded data removed]",
      "text/plain": [
       "<matplotlib.figure.Figure at 0x102d7cd68>"
      ]
     },
     "metadata": {
      "needs_background": "light"
     },
     "output_type": "display_data"
    }
   ],
   "source": [
    "ax = q7_agg.plot('CODE Ex', 'Respondent ID', kind = 'bar')\n",
    "ax.legend_.remove()\n",
    "\n",
    "plt.xlabel('Code')\n",
    "plt.ylabel('Number of Respondents')"
   ]
  },
  {
   "cell_type": "markdown",
   "metadata": {},
   "source": [
    "## Question 8"
   ]
  },
  {
   "cell_type": "code",
   "execution_count": 20,
   "metadata": {},
   "outputs": [],
   "source": [
    "q8 = pd.read_csv(\"Question8Code.csv\")"
   ]
  },
  {
   "cell_type": "code",
   "execution_count": 21,
   "metadata": {},
   "outputs": [
    {
     "data": {
      "text/html": [
       "<div>\n",
       "<style scoped>\n",
       "    .dataframe tbody tr th:only-of-type {\n",
       "        vertical-align: middle;\n",
       "    }\n",
       "\n",
       "    .dataframe tbody tr th {\n",
       "        vertical-align: top;\n",
       "    }\n",
       "\n",
       "    .dataframe thead th {\n",
       "        text-align: right;\n",
       "    }\n",
       "</style>\n",
       "<table border=\"1\" class=\"dataframe\">\n",
       "  <thead>\n",
       "    <tr style=\"text-align: right;\">\n",
       "      <th></th>\n",
       "      <th>Respondent ID</th>\n",
       "      <th>In addition to Facebook, what would be the best way(s) for you to connect with the rest of the Aspirations community?</th>\n",
       "      <th>CODE</th>\n",
       "    </tr>\n",
       "  </thead>\n",
       "  <tbody>\n",
       "    <tr>\n",
       "      <th>0</th>\n",
       "      <td>6928372992</td>\n",
       "      <td>A specific website or page with a way to connect</td>\n",
       "      <td>web</td>\n",
       "    </tr>\n",
       "    <tr>\n",
       "      <th>1</th>\n",
       "      <td>6921763051</td>\n",
       "      <td>I'm not sure what the Facebook has, but I find...</td>\n",
       "      <td>e</td>\n",
       "    </tr>\n",
       "    <tr>\n",
       "      <th>3</th>\n",
       "      <td>6920022402</td>\n",
       "      <td>Snapchat, instagram, emails</td>\n",
       "      <td>e</td>\n",
       "    </tr>\n",
       "    <tr>\n",
       "      <th>4</th>\n",
       "      <td>6920022402</td>\n",
       "      <td>Snapchat, instagram, emails</td>\n",
       "      <td>sn</td>\n",
       "    </tr>\n",
       "    <tr>\n",
       "      <th>5</th>\n",
       "      <td>6920022402</td>\n",
       "      <td>Snapchat, instagram, emails</td>\n",
       "      <td>i</td>\n",
       "    </tr>\n",
       "  </tbody>\n",
       "</table>\n",
       "</div>"
      ],
      "text/plain": [
       "   Respondent ID  \\\n",
       "0     6928372992   \n",
       "1     6921763051   \n",
       "3     6920022402   \n",
       "4     6920022402   \n",
       "5     6920022402   \n",
       "\n",
       "  In addition to Facebook, what would be the best way(s) for you to connect with the rest of the Aspirations community?  \\\n",
       "0   A specific website or page with a way to connect                                                                      \n",
       "1  I'm not sure what the Facebook has, but I find...                                                                      \n",
       "3                        Snapchat, instagram, emails                                                                      \n",
       "4                        Snapchat, instagram, emails                                                                      \n",
       "5                        Snapchat, instagram, emails                                                                      \n",
       "\n",
       "  CODE  \n",
       "0  web  \n",
       "1    e  \n",
       "3    e  \n",
       "4   sn  \n",
       "5    i  "
      ]
     },
     "execution_count": 21,
     "metadata": {},
     "output_type": "execute_result"
    }
   ],
   "source": [
    "q8 = q8.dropna()\n",
    "q8.head()"
   ]
  },
  {
   "cell_type": "code",
   "execution_count": 22,
   "metadata": {},
   "outputs": [
    {
     "data": {
      "text/plain": [
       "array(['web', 'e', 'sn', 'i', 'tw', 'sm', 'fm', 'd', 'gm', 'goo', 'ev',\n",
       "       'fb', 'li', 't', 'p', 'news', 'o'], dtype=object)"
      ]
     },
     "execution_count": 22,
     "metadata": {},
     "output_type": "execute_result"
    }
   ],
   "source": [
    "q8['CODE'].unique()"
   ]
  },
  {
   "cell_type": "code",
   "execution_count": 23,
   "metadata": {},
   "outputs": [
    {
     "data": {
      "text/html": [
       "<div>\n",
       "<style scoped>\n",
       "    .dataframe tbody tr th:only-of-type {\n",
       "        vertical-align: middle;\n",
       "    }\n",
       "\n",
       "    .dataframe tbody tr th {\n",
       "        vertical-align: top;\n",
       "    }\n",
       "\n",
       "    .dataframe thead th {\n",
       "        text-align: right;\n",
       "    }\n",
       "</style>\n",
       "<table border=\"1\" class=\"dataframe\">\n",
       "  <thead>\n",
       "    <tr style=\"text-align: right;\">\n",
       "      <th></th>\n",
       "      <th>CODE</th>\n",
       "      <th>Respondent ID</th>\n",
       "      <th>CODE Ex</th>\n",
       "    </tr>\n",
       "  </thead>\n",
       "  <tbody>\n",
       "    <tr>\n",
       "      <th>1</th>\n",
       "      <td>e</td>\n",
       "      <td>334</td>\n",
       "      <td>Email</td>\n",
       "    </tr>\n",
       "    <tr>\n",
       "      <th>7</th>\n",
       "      <td>i</td>\n",
       "      <td>303</td>\n",
       "      <td>Instagram</td>\n",
       "    </tr>\n",
       "    <tr>\n",
       "      <th>5</th>\n",
       "      <td>gm</td>\n",
       "      <td>172</td>\n",
       "      <td>Group Messaging</td>\n",
       "    </tr>\n",
       "    <tr>\n",
       "      <th>2</th>\n",
       "      <td>ev</td>\n",
       "      <td>136</td>\n",
       "      <td>Event</td>\n",
       "    </tr>\n",
       "    <tr>\n",
       "      <th>15</th>\n",
       "      <td>tw</td>\n",
       "      <td>114</td>\n",
       "      <td>Twitter</td>\n",
       "    </tr>\n",
       "    <tr>\n",
       "      <th>12</th>\n",
       "      <td>sm</td>\n",
       "      <td>104</td>\n",
       "      <td>Social Media</td>\n",
       "    </tr>\n",
       "    <tr>\n",
       "      <th>3</th>\n",
       "      <td>fb</td>\n",
       "      <td>96</td>\n",
       "      <td>Facebook</td>\n",
       "    </tr>\n",
       "    <tr>\n",
       "      <th>13</th>\n",
       "      <td>sn</td>\n",
       "      <td>73</td>\n",
       "      <td>Snapchat</td>\n",
       "    </tr>\n",
       "    <tr>\n",
       "      <th>16</th>\n",
       "      <td>web</td>\n",
       "      <td>52</td>\n",
       "      <td>Website</td>\n",
       "    </tr>\n",
       "    <tr>\n",
       "      <th>8</th>\n",
       "      <td>li</td>\n",
       "      <td>49</td>\n",
       "      <td>Linkedin</td>\n",
       "    </tr>\n",
       "    <tr>\n",
       "      <th>14</th>\n",
       "      <td>t</td>\n",
       "      <td>47</td>\n",
       "      <td>Text</td>\n",
       "    </tr>\n",
       "    <tr>\n",
       "      <th>0</th>\n",
       "      <td>d</td>\n",
       "      <td>30</td>\n",
       "      <td>Discord</td>\n",
       "    </tr>\n",
       "    <tr>\n",
       "      <th>6</th>\n",
       "      <td>goo</td>\n",
       "      <td>25</td>\n",
       "      <td>Google</td>\n",
       "    </tr>\n",
       "    <tr>\n",
       "      <th>4</th>\n",
       "      <td>fm</td>\n",
       "      <td>21</td>\n",
       "      <td>Forum</td>\n",
       "    </tr>\n",
       "    <tr>\n",
       "      <th>10</th>\n",
       "      <td>o</td>\n",
       "      <td>20</td>\n",
       "      <td>Other</td>\n",
       "    </tr>\n",
       "    <tr>\n",
       "      <th>11</th>\n",
       "      <td>p</td>\n",
       "      <td>12</td>\n",
       "      <td>Phone</td>\n",
       "    </tr>\n",
       "    <tr>\n",
       "      <th>9</th>\n",
       "      <td>news</td>\n",
       "      <td>10</td>\n",
       "      <td>Newsletter</td>\n",
       "    </tr>\n",
       "  </tbody>\n",
       "</table>\n",
       "</div>"
      ],
      "text/plain": [
       "    CODE  Respondent ID          CODE Ex\n",
       "1      e            334            Email\n",
       "7      i            303        Instagram\n",
       "5     gm            172  Group Messaging\n",
       "2     ev            136            Event\n",
       "15    tw            114          Twitter\n",
       "12    sm            104     Social Media\n",
       "3     fb             96         Facebook\n",
       "13    sn             73         Snapchat\n",
       "16   web             52          Website\n",
       "8     li             49         Linkedin\n",
       "14     t             47             Text\n",
       "0      d             30          Discord\n",
       "6    goo             25           Google\n",
       "4     fm             21            Forum\n",
       "10     o             20            Other\n",
       "11     p             12            Phone\n",
       "9   news             10       Newsletter"
      ]
     },
     "execution_count": 23,
     "metadata": {},
     "output_type": "execute_result"
    }
   ],
   "source": [
    "q8_gb = q8.groupby('CODE')\n",
    "agg_d = {'Respondent ID' : 'count'}\n",
    "q8_agg = q8_gb.agg(agg_d)\n",
    "q8_agg = q8_agg.reset_index()\n",
    "q8_agg['CODE Ex'] = ['Discord', 'Email', 'Event', 'Facebook', 'Forum', 'Group Messaging', 'Google', 'Instagram',\n",
    "                     'Linkedin', 'Newsletter', 'Other', 'Phone', 'Social Media', 'Snapchat', 'Text', 'Twitter', 'Website']\n",
    "q8_agg = q8_agg.sort_values('Respondent ID', ascending = False)\n",
    "q8_agg"
   ]
  },
  {
   "cell_type": "code",
   "execution_count": 24,
   "metadata": {},
   "outputs": [
    {
     "data": {
      "text/plain": [
       "Text(0,0.5,'Number of Respondents')"
      ]
     },
     "execution_count": 24,
     "metadata": {},
     "output_type": "execute_result"
    },
    {
     "data": {
      "image/png": "[encoded data removed]",
      "text/plain": [
       "<matplotlib.figure.Figure at 0x10fe09d68>"
      ]
     },
     "metadata": {
      "needs_background": "light"
     },
     "output_type": "display_data"
    }
   ],
   "source": [
    "ax = q8_agg.plot('CODE Ex', 'Respondent ID', kind = 'bar')\n",
    "ax.legend_.remove()\n",
    "\n",
    "plt.xlabel('Code')\n",
    "plt.ylabel('Number of Respondents')"
   ]
  },
  {
   "cell_type": "markdown",
   "metadata": {},
   "source": [
    "## Question 11"
   ]
  },
  {
   "cell_type": "code",
   "execution_count": 46,
   "metadata": {},
   "outputs": [],
   "source": [
    "q11 = df_raw[[\"Please rate the following Impact items from Strongly Agree to Strongly Disagree.Being a recipient of the Award for Aspirations in Computing...\",\n",
    "                    'Unnamed: 23', 'Unnamed: 24', 'Unnamed: 25', 'Unnamed: 26', 'Unnamed: 27', 'Unnamed: 28',\n",
    "                    \"Unnamed: 29\"]].dropna().replace(\"Strongly Disagree\", 1).replace(\"Disagree\", 2).replace(\"Neither Agree nor Disagree\", 3).replace(\"Agree\", 4).replace(\"Strongly Agree\", 5)"
   ]
  },
  {
   "cell_type": "code",
   "execution_count": 47,
   "metadata": {},
   "outputs": [
    {
     "data": {
      "text/html": [
       "<div>\n",
       "<style scoped>\n",
       "    .dataframe tbody tr th:only-of-type {\n",
       "        vertical-align: middle;\n",
       "    }\n",
       "\n",
       "    .dataframe tbody tr th {\n",
       "        vertical-align: top;\n",
       "    }\n",
       "\n",
       "    .dataframe thead th {\n",
       "        text-align: right;\n",
       "    }\n",
       "</style>\n",
       "<table border=\"1\" class=\"dataframe\">\n",
       "  <thead>\n",
       "    <tr style=\"text-align: right;\">\n",
       "      <th></th>\n",
       "      <th>Increased my commitment to pursuing a computer science degree in college.</th>\n",
       "      <th>Increased my confidence in my ability to pursue a technology career.</th>\n",
       "      <th>Positively impacted my self-esteem.</th>\n",
       "      <th>Helped me see myself as a \"computing person.\"</th>\n",
       "      <th>Made me feel part of a community of women in computing.</th>\n",
       "      <th>Fed my interest in a computing career.</th>\n",
       "      <th>Inspired me to emulate the successful women I saw at the event ceremony.</th>\n",
       "      <th>Motivated me to stay in touch with the young women I met at the event ceremony.</th>\n",
       "    </tr>\n",
       "  </thead>\n",
       "  <tbody>\n",
       "    <tr>\n",
       "      <th>0</th>\n",
       "      <td>4</td>\n",
       "      <td>4</td>\n",
       "      <td>4</td>\n",
       "      <td>4</td>\n",
       "      <td>4</td>\n",
       "      <td>4</td>\n",
       "      <td>3</td>\n",
       "      <td>3</td>\n",
       "    </tr>\n",
       "    <tr>\n",
       "      <th>1</th>\n",
       "      <td>4</td>\n",
       "      <td>5</td>\n",
       "      <td>4</td>\n",
       "      <td>5</td>\n",
       "      <td>5</td>\n",
       "      <td>5</td>\n",
       "      <td>3</td>\n",
       "      <td>3</td>\n",
       "    </tr>\n",
       "    <tr>\n",
       "      <th>5</th>\n",
       "      <td>4</td>\n",
       "      <td>4</td>\n",
       "      <td>4</td>\n",
       "      <td>4</td>\n",
       "      <td>5</td>\n",
       "      <td>5</td>\n",
       "      <td>3</td>\n",
       "      <td>3</td>\n",
       "    </tr>\n",
       "    <tr>\n",
       "      <th>8</th>\n",
       "      <td>3</td>\n",
       "      <td>3</td>\n",
       "      <td>3</td>\n",
       "      <td>2</td>\n",
       "      <td>4</td>\n",
       "      <td>3</td>\n",
       "      <td>3</td>\n",
       "      <td>3</td>\n",
       "    </tr>\n",
       "    <tr>\n",
       "      <th>11</th>\n",
       "      <td>4</td>\n",
       "      <td>4</td>\n",
       "      <td>4</td>\n",
       "      <td>4</td>\n",
       "      <td>4</td>\n",
       "      <td>4</td>\n",
       "      <td>4</td>\n",
       "      <td>3</td>\n",
       "    </tr>\n",
       "  </tbody>\n",
       "</table>\n",
       "</div>"
      ],
      "text/plain": [
       "    Increased my commitment to pursuing a computer science degree in college.  \\\n",
       "0                                                   4                           \n",
       "1                                                   4                           \n",
       "5                                                   4                           \n",
       "8                                                   3                           \n",
       "11                                                  4                           \n",
       "\n",
       "    Increased my confidence in my ability to pursue a technology career.  \\\n",
       "0                                                   4                      \n",
       "1                                                   5                      \n",
       "5                                                   4                      \n",
       "8                                                   3                      \n",
       "11                                                  4                      \n",
       "\n",
       "    Positively impacted my self-esteem.  \\\n",
       "0                                     4   \n",
       "1                                     4   \n",
       "5                                     4   \n",
       "8                                     3   \n",
       "11                                    4   \n",
       "\n",
       "    Helped me see myself as a \"computing person.\"  \\\n",
       "0                                               4   \n",
       "1                                               5   \n",
       "5                                               4   \n",
       "8                                               2   \n",
       "11                                              4   \n",
       "\n",
       "    Made me feel part of a community of women in computing.  \\\n",
       "0                                                   4         \n",
       "1                                                   5         \n",
       "5                                                   5         \n",
       "8                                                   4         \n",
       "11                                                  4         \n",
       "\n",
       "    Fed my interest in a computing career.  \\\n",
       "0                                        4   \n",
       "1                                        5   \n",
       "5                                        5   \n",
       "8                                        3   \n",
       "11                                       4   \n",
       "\n",
       "    Inspired me to emulate the successful women I saw at the event ceremony.  \\\n",
       "0                                                   3                          \n",
       "1                                                   3                          \n",
       "5                                                   3                          \n",
       "8                                                   3                          \n",
       "11                                                  4                          \n",
       "\n",
       "    Motivated me to stay in touch with the young women I met at the event ceremony.  \n",
       "0                                                   3                                \n",
       "1                                                   3                                \n",
       "5                                                   3                                \n",
       "8                                                   3                                \n",
       "11                                                  3                                "
      ]
     },
     "execution_count": 47,
     "metadata": {},
     "output_type": "execute_result"
    }
   ],
   "source": [
    "q11 = pd.read_csv(\"Question11.csv\")\n",
    "q11 = q11[[\"Increased my commitment to pursuing a computer science degree in college.\", \n",
    "     \"Increased my confidence in my ability to pursue a technology career.\", \n",
    "    \"Positively impacted my self-esteem.\", 'Helped me see myself as a \"computing person.\"', \n",
    "    \"Made me feel part of a community of women in computing.\", \n",
    "     \"Fed my interest in a computing career.\", \"Inspired me to emulate the successful women I saw at the event ceremony.\",\n",
    "    \"Motivated me to stay in touch with the young women I met at the event ceremony.\"]].dropna().replace(\"Strongly Disagree\", 1).replace(\"Disagree\", 2).replace(\"Neither Agree nor Disagree\", 3).replace(\"Agree\", 4).replace(\"Strongly Agree\", 5)\n",
    "q11.head()"
   ]
  },
  {
   "cell_type": "code",
   "execution_count": 48,
   "metadata": {},
   "outputs": [
    {
     "data": {
      "text/plain": [
       "Increased my commitment to pursuing a computer science degree in college.          3.951737\n",
       "Increased my confidence in my ability to pursue a technology career.               4.158301\n",
       "Positively impacted my self-esteem.                                                4.248069\n",
       "Helped me see myself as a \"computing person.\"                                      4.025097\n",
       "Made me feel part of a community of women in computing.                            4.250965\n",
       "Fed my interest in a computing career.                                             4.014479\n",
       "Inspired me to emulate the successful women I saw at the event ceremony.           4.005792\n",
       "Motivated me to stay in touch with the young women I met at the event ceremony.    3.476834\n",
       "dtype: float64"
      ]
     },
     "execution_count": 48,
     "metadata": {},
     "output_type": "execute_result"
    }
   ],
   "source": [
    "q11_mean = q11.mean()\n",
    "q11_mean"
   ]
  },
  {
   "cell_type": "code",
   "execution_count": 52,
   "metadata": {},
   "outputs": [
    {
     "data": {
      "text/plain": [
       "([<matplotlib.axis.YTick at 0x1115d9470>,\n",
       "  <matplotlib.axis.YTick at 0x1115cff60>,\n",
       "  <matplotlib.axis.YTick at 0x11164bba8>,\n",
       "  <matplotlib.axis.YTick at 0x111661a90>,\n",
       "  <matplotlib.axis.YTick at 0x11166a5f8>,\n",
       "  <matplotlib.axis.YTick at 0x11166ac88>,\n",
       "  <matplotlib.axis.YTick at 0x111670358>,\n",
       "  <matplotlib.axis.YTick at 0x1116709e8>],\n",
       " <a list of 8 Text yticklabel objects>)"
      ]
     },
     "execution_count": 52,
     "metadata": {},
     "output_type": "execute_result"
    },
    {
     "data": {
      "image/png": "[encoded data removed]",
      "text/plain": [
       "<matplotlib.figure.Figure at 0x11150a128>"
      ]
     },
     "metadata": {
      "needs_background": "light"
     },
     "output_type": "display_data"
    }
   ],
   "source": [
    "ax = q11_mean.plot(kind = 'barh', colormap = 'Pastel2')\n",
    "\n",
    "plt.xlabel('Average Rating')\n",
    "plt.yticks(np.arange(8), ('Increased my commitment to pursuing a computer science degree in college.', \n",
    "                          'Increased my confidence in my ability to pursue a technology career.', \n",
    "                          'Positively impacted my self-esteem.', \n",
    "                          'Helped me see myself as a \"computing person.\"', \n",
    "                          'Made me feel part of a community of women in computing.',\n",
    "                          'Fed my interest in a computing career.', \n",
    "                          'Inspired me to emulate the successful women I saw at the event ceremony.', \n",
    "                          'Motivated me to stay in touch with the young women I met at the event ceremony.'))"
   ]
  },
  {
   "cell_type": "code",
   "execution_count": 16,
   "metadata": {},
   "outputs": [
    {
     "name": "stdout",
     "output_type": "stream",
     "text": [
      "(0.46983877638836996, 5.230087272179904e-58)\n",
      "(0.4723489026788479, 1.0807729730327622e-58)\n",
      "(0.4381060893699225, 7.951385985206021e-50)\n",
      "(0.4682238631434008, 1.432390944408198e-57)\n",
      "(0.5179079782472549, 3.64134248893318e-72)\n",
      "(0.5283660371166555, 1.4789066526694268e-75)\n",
      "(0.5996888479407988, 3.4823558999573285e-102)\n",
      "(1.0, 0.0)\n"
     ]
    }
   ],
   "source": [
    "from scipy.stats import pearsonr\n",
    "# help(pearsonr)\n",
    "\n",
    "x = ([\"Increased my commitment to pursuing a computer science degree in college.\",\n",
    "     \"Increased my confidence in my ability to pursue a technology career.\",\n",
    "    \"Positively impacted my self-esteem.\", 'Helped me see myself as a \"computing person.\"',\n",
    "    \"Made me feel part of a community of women in computing.\",\n",
    "     \"Fed my interest in a computing career.\", \"Inspired me to emulate the successful women I saw at the event ceremony.\",\n",
    "    \"Motivated me to stay in touch with the young women I met at the event ceremony.\"])\n",
    "\n",
    "for thing in x:\n",
    "    pr = pearsonr(q11[thing], q11['Motivated me to stay in touch with the young women I met at the event ceremony.'])\n",
    "    print(pr)"
   ]
  },
  {
   "cell_type": "markdown",
   "metadata": {},
   "source": [
    "Correlation for each part of Q11:\n",
    "\n",
    "1. Increased my commitment to pursuing a computer science degree in college.\n",
    "(1.0, 0.0)\n",
    "(0.7019868752563281, 1.3547885130046411e-154)\n",
    "(0.5608543960857546, 6.9468434168406375e-87)\n",
    "(0.6660228740075038, 8.73300049437047e-134)\n",
    "(0.5758534963810277, 1.4956390328247555e-92)\n",
    "(0.7607524408132378, 2.5305395586964962e-196)\n",
    "(0.5613779973320903, 4.454729820042528e-87)\n",
    "(0.46983877638836996, 5.230087272179904e-58)\n",
    "\n",
    "2. Increased my confidence in my ability to pursue a technology career.\n",
    "(0.7019868752563281, 1.3547885130046411e-154)\n",
    "(1.0, 0.0)\n",
    "(0.6977738492831663, 5.369838698315858e-152)\n",
    "(0.6873444727765234, 9.342285273617402e-146)\n",
    "(0.6250916963779435, 2.1932847422274703e-113)\n",
    "(0.7144970515105648, 1.37894916056079e-162)\n",
    "(0.601743373986242, 4.712509792137798e-103)\n",
    "(0.4723489026788479, 1.0807729730327622e-58)\n",
    "\n",
    "3. Positively impacted my self-esteem.\n",
    "(0.5608543960857546, 6.9468434168406375e-87)\n",
    "(0.6977738492831663, 5.369838698315858e-152)\n",
    "(1.0, 0.0)\n",
    "(0.6659638842879294, 9.395208442553363e-134)\n",
    "(0.612492287412769, 1.0568249233289392e-107)\n",
    "(0.5870589747590875, 5.569634436148925e-97)\n",
    "(0.5819919538006707, 5.887224774605301e-95)\n",
    "(0.4381060893699225, 7.951385985206021e-50)\n",
    "\n",
    "4. Helped me see myself as a \"computing person.\"\n",
    "(0.6660228740075038, 8.73300049437047e-134)\n",
    "(0.6873444727765234, 9.342285273617402e-146)\n",
    "(0.6659638842879294, 9.395208442553363e-134)\n",
    "(1.0, 0.0)\n",
    "(0.6345171510035218, 8.243538441263483e-118)\n",
    "(0.7003187817642246, 1.465585850045276e-153)\n",
    "(0.5637508716252908, 5.888398501486674e-88)\n",
    "(0.4682238631434008, 1.432390944408198e-57)\n",
    "\n",
    "5. Made me feel part of a community of women in computing.\n",
    "(0.5758534963810277, 1.4956390328247555e-92)\n",
    "(0.6250916963779435, 2.1932847422274703e-113)\n",
    "(0.612492287412769, 1.0568249233289392e-107)\n",
    "(0.6345171510035218, 8.243538441263483e-118)\n",
    "(1.0, 0.0)\n",
    "(0.6519710682832518, 2.0052863394257116e-126)\n",
    "(0.5995482123657097, 3.991180015077186e-102)\n",
    "(0.5179079782472549, 3.64134248893318e-72)\n",
    "\n",
    "6. Fed my interest in a computing career.\n",
    "(0.7607524408132378, 2.5305395586964962e-196)\n",
    "(0.7144970515105648, 1.37894916056079e-162)\n",
    "(0.5870589747590875, 5.569634436148925e-97)\n",
    "(0.7003187817642246, 1.465585850045276e-153)\n",
    "(0.6519710682832518, 2.0052863394257116e-126)\n",
    "(1.0, 0.0)\n",
    "(0.6123727524894432, 1.1931433426933272e-107)\n",
    "(0.5283660371166555, 1.4789066526694268e-75)\n",
    "\n",
    "7. Inspired me to emulate the successful women I saw at the event ceremony.\n",
    "(0.5613779973320903, 4.454729820042528e-87)\n",
    "(0.601743373986242, 4.712509792137798e-103)\n",
    "(0.5819919538006707, 5.887224774605301e-95)\n",
    "(0.5637508716252908, 5.888398501486674e-88)\n",
    "(0.5995482123657097, 3.991180015077186e-102)\n",
    "(0.6123727524894432, 1.1931433426933272e-107)\n",
    "(1.0, 0.0)\n",
    "(0.5996888479407988, 3.4823558999573285e-102)\n",
    "\n",
    "8. Motivated me to stay in touch with the young women I met at the event ceremony.\n",
    "(0.46983877638836996, 5.230087272179904e-58)\n",
    "(0.4723489026788479, 1.0807729730327622e-58)\n",
    "(0.4381060893699225, 7.951385985206021e-50)\n",
    "(0.4682238631434008, 1.432390944408198e-57)\n",
    "(0.5179079782472549, 3.64134248893318e-72)\n",
    "(0.5283660371166555, 1.4789066526694268e-75)\n",
    "(0.5996888479407988, 3.4823558999573285e-102)\n",
    "(1.0, 0.0)"
   ]
  },
  {
   "cell_type": "markdown",
   "metadata": {},
   "source": [
    "## Question 12"
   ]
  },
  {
   "cell_type": "code",
   "execution_count": 2,
   "metadata": {},
   "outputs": [],
   "source": [
    "q12 = pd.read_csv(\"Question12Code.csv\")"
   ]
  },
  {
   "cell_type": "code",
   "execution_count": 3,
   "metadata": {},
   "outputs": [
    {
     "data": {
      "text/html": [
       "<div>\n",
       "<style scoped>\n",
       "    .dataframe tbody tr th:only-of-type {\n",
       "        vertical-align: middle;\n",
       "    }\n",
       "\n",
       "    .dataframe tbody tr th {\n",
       "        vertical-align: top;\n",
       "    }\n",
       "\n",
       "    .dataframe thead th {\n",
       "        text-align: right;\n",
       "    }\n",
       "</style>\n",
       "<table border=\"1\" class=\"dataframe\">\n",
       "  <thead>\n",
       "    <tr style=\"text-align: right;\">\n",
       "      <th></th>\n",
       "      <th>Because of this Award, I am more...</th>\n",
       "      <th>CODE</th>\n",
       "    </tr>\n",
       "  </thead>\n",
       "  <tbody>\n",
       "    <tr>\n",
       "      <th>0</th>\n",
       "      <td>likely to explore careers in computing</td>\n",
       "      <td>M</td>\n",
       "    </tr>\n",
       "    <tr>\n",
       "      <th>1</th>\n",
       "      <td>confident in my ability to program and be a me...</td>\n",
       "      <td>C</td>\n",
       "    </tr>\n",
       "    <tr>\n",
       "      <th>4</th>\n",
       "      <td>Motivated to keep exploring the CS field and c...</td>\n",
       "      <td>M</td>\n",
       "    </tr>\n",
       "    <tr>\n",
       "      <th>5</th>\n",
       "      <td>Aware of computing opportunities for young women.</td>\n",
       "      <td>A</td>\n",
       "    </tr>\n",
       "    <tr>\n",
       "      <th>7</th>\n",
       "      <td>capable of filling a college resume</td>\n",
       "      <td>O</td>\n",
       "    </tr>\n",
       "  </tbody>\n",
       "</table>\n",
       "</div>"
      ],
      "text/plain": [
       "                 Because of this Award, I am more... CODE\n",
       "0             likely to explore careers in computing    M\n",
       "1  confident in my ability to program and be a me...    C\n",
       "4  Motivated to keep exploring the CS field and c...    M\n",
       "5  Aware of computing opportunities for young women.    A\n",
       "7                capable of filling a college resume    O"
      ]
     },
     "execution_count": 3,
     "metadata": {},
     "output_type": "execute_result"
    }
   ],
   "source": [
    "q12 = q12.dropna()\n",
    "q12.head()"
   ]
  },
  {
   "cell_type": "code",
   "execution_count": 4,
   "metadata": {},
   "outputs": [
    {
     "data": {
      "text/plain": [
       "array(['M', 'C', 'A', 'O', 'I', 'CN', 'E', 'B'], dtype=object)"
      ]
     },
     "execution_count": 4,
     "metadata": {},
     "output_type": "execute_result"
    }
   ],
   "source": [
    "q12['CODE'].unique()"
   ]
  },
  {
   "cell_type": "code",
   "execution_count": 8,
   "metadata": {},
   "outputs": [
    {
     "data": {
      "text/html": [
       "<div>\n",
       "<style scoped>\n",
       "    .dataframe tbody tr th:only-of-type {\n",
       "        vertical-align: middle;\n",
       "    }\n",
       "\n",
       "    .dataframe tbody tr th {\n",
       "        vertical-align: top;\n",
       "    }\n",
       "\n",
       "    .dataframe thead th {\n",
       "        text-align: right;\n",
       "    }\n",
       "</style>\n",
       "<table border=\"1\" class=\"dataframe\">\n",
       "  <thead>\n",
       "    <tr style=\"text-align: right;\">\n",
       "      <th></th>\n",
       "      <th>Because of this Award, I am more...</th>\n",
       "    </tr>\n",
       "    <tr>\n",
       "      <th>CODE</th>\n",
       "      <th></th>\n",
       "    </tr>\n",
       "  </thead>\n",
       "  <tbody>\n",
       "    <tr>\n",
       "      <th>C</th>\n",
       "      <td>600</td>\n",
       "    </tr>\n",
       "    <tr>\n",
       "      <th>M</th>\n",
       "      <td>174</td>\n",
       "    </tr>\n",
       "    <tr>\n",
       "      <th>A</th>\n",
       "      <td>90</td>\n",
       "    </tr>\n",
       "    <tr>\n",
       "      <th>I</th>\n",
       "      <td>76</td>\n",
       "    </tr>\n",
       "    <tr>\n",
       "      <th>O</th>\n",
       "      <td>57</td>\n",
       "    </tr>\n",
       "    <tr>\n",
       "      <th>E</th>\n",
       "      <td>56</td>\n",
       "    </tr>\n",
       "    <tr>\n",
       "      <th>CN</th>\n",
       "      <td>25</td>\n",
       "    </tr>\n",
       "    <tr>\n",
       "      <th>B</th>\n",
       "      <td>11</td>\n",
       "    </tr>\n",
       "  </tbody>\n",
       "</table>\n",
       "</div>"
      ],
      "text/plain": [
       "      Because of this Award, I am more...\n",
       "CODE                                     \n",
       "C                                     600\n",
       "M                                     174\n",
       "A                                      90\n",
       "I                                      76\n",
       "O                                      57\n",
       "E                                      56\n",
       "CN                                     25\n",
       "B                                      11"
      ]
     },
     "execution_count": 8,
     "metadata": {},
     "output_type": "execute_result"
    }
   ],
   "source": [
    "q12_gb = q12.groupby('CODE')\n",
    "agg_d = {'Because of this Award, I am more...' : 'count'}\n",
    "q12_agg = q12_gb.agg(agg_d).sort_values('Because of this Award, I am more...', ascending=False)\n",
    "q12_agg"
   ]
  },
  {
   "cell_type": "markdown",
   "metadata": {},
   "source": [
    "## Question 14"
   ]
  },
  {
   "cell_type": "code",
   "execution_count": 9,
   "metadata": {},
   "outputs": [],
   "source": [
    "q14 = pd.read_csv(\"Question14Code.csv\")"
   ]
  },
  {
   "cell_type": "code",
   "execution_count": 10,
   "metadata": {},
   "outputs": [
    {
     "data": {
      "text/html": [
       "<div>\n",
       "<style scoped>\n",
       "    .dataframe tbody tr th:only-of-type {\n",
       "        vertical-align: middle;\n",
       "    }\n",
       "\n",
       "    .dataframe tbody tr th {\n",
       "        vertical-align: top;\n",
       "    }\n",
       "\n",
       "    .dataframe thead th {\n",
       "        text-align: right;\n",
       "    }\n",
       "</style>\n",
       "<table border=\"1\" class=\"dataframe\">\n",
       "  <thead>\n",
       "    <tr style=\"text-align: right;\">\n",
       "      <th></th>\n",
       "      <th>Respondent ID</th>\n",
       "      <th>Is there anything else you would like to share with us regarding the Award for Aspirations in Computing?</th>\n",
       "      <th>CODE</th>\n",
       "    </tr>\n",
       "  </thead>\n",
       "  <tbody>\n",
       "    <tr>\n",
       "      <th>0</th>\n",
       "      <td>6928372992</td>\n",
       "      <td>Thank you so much for the great opportunities ...</td>\n",
       "      <td>ty</td>\n",
       "    </tr>\n",
       "    <tr>\n",
       "      <th>1</th>\n",
       "      <td>6921763051</td>\n",
       "      <td>Not really!</td>\n",
       "      <td>no</td>\n",
       "    </tr>\n",
       "    <tr>\n",
       "      <th>5</th>\n",
       "      <td>6918090577</td>\n",
       "      <td>It was an eye-opening application that helped ...</td>\n",
       "      <td>in</td>\n",
       "    </tr>\n",
       "    <tr>\n",
       "      <th>7</th>\n",
       "      <td>6916427526</td>\n",
       "      <td>nope</td>\n",
       "      <td>no</td>\n",
       "    </tr>\n",
       "    <tr>\n",
       "      <th>11</th>\n",
       "      <td>6915634456</td>\n",
       "      <td>Thank you!</td>\n",
       "      <td>ty</td>\n",
       "    </tr>\n",
       "  </tbody>\n",
       "</table>\n",
       "</div>"
      ],
      "text/plain": [
       "    Respondent ID  \\\n",
       "0      6928372992   \n",
       "1      6921763051   \n",
       "5      6918090577   \n",
       "7      6916427526   \n",
       "11     6915634456   \n",
       "\n",
       "   Is there anything else you would like to share with us regarding the Award for Aspirations in Computing?  \\\n",
       "0   Thank you so much for the great opportunities ...                                                         \n",
       "1                                         Not really!                                                         \n",
       "5   It was an eye-opening application that helped ...                                                         \n",
       "7                                                nope                                                         \n",
       "11                                        Thank you!                                                          \n",
       "\n",
       "   CODE  \n",
       "0    ty  \n",
       "1    no  \n",
       "5    in  \n",
       "7    no  \n",
       "11   ty  "
      ]
     },
     "execution_count": 10,
     "metadata": {},
     "output_type": "execute_result"
    }
   ],
   "source": [
    "q14 = q14.dropna()\n",
    "q14.head()"
   ]
  },
  {
   "cell_type": "code",
   "execution_count": 11,
   "metadata": {},
   "outputs": [
    {
     "data": {
      "text/plain": [
       "array(['ty', 'no', 'in', 'p', 'comp', 'ad'], dtype=object)"
      ]
     },
     "execution_count": 11,
     "metadata": {},
     "output_type": "execute_result"
    }
   ],
   "source": [
    "q14['CODE'].unique()"
   ]
  },
  {
   "cell_type": "code",
   "execution_count": 12,
   "metadata": {},
   "outputs": [
    {
     "data": {
      "text/html": [
       "<div>\n",
       "<style scoped>\n",
       "    .dataframe tbody tr th:only-of-type {\n",
       "        vertical-align: middle;\n",
       "    }\n",
       "\n",
       "    .dataframe tbody tr th {\n",
       "        vertical-align: top;\n",
       "    }\n",
       "\n",
       "    .dataframe thead th {\n",
       "        text-align: right;\n",
       "    }\n",
       "</style>\n",
       "<table border=\"1\" class=\"dataframe\">\n",
       "  <thead>\n",
       "    <tr style=\"text-align: right;\">\n",
       "      <th></th>\n",
       "      <th>CODE</th>\n",
       "    </tr>\n",
       "    <tr>\n",
       "      <th>CODE</th>\n",
       "      <th></th>\n",
       "    </tr>\n",
       "  </thead>\n",
       "  <tbody>\n",
       "    <tr>\n",
       "      <th>ad</th>\n",
       "      <td>55</td>\n",
       "    </tr>\n",
       "    <tr>\n",
       "      <th>comp</th>\n",
       "      <td>149</td>\n",
       "    </tr>\n",
       "    <tr>\n",
       "      <th>in</th>\n",
       "      <td>43</td>\n",
       "    </tr>\n",
       "    <tr>\n",
       "      <th>no</th>\n",
       "      <td>180</td>\n",
       "    </tr>\n",
       "    <tr>\n",
       "      <th>p</th>\n",
       "      <td>64</td>\n",
       "    </tr>\n",
       "    <tr>\n",
       "      <th>ty</th>\n",
       "      <td>175</td>\n",
       "    </tr>\n",
       "  </tbody>\n",
       "</table>\n",
       "</div>"
      ],
      "text/plain": [
       "      CODE\n",
       "CODE      \n",
       "ad      55\n",
       "comp   149\n",
       "in      43\n",
       "no     180\n",
       "p       64\n",
       "ty     175"
      ]
     },
     "execution_count": 12,
     "metadata": {},
     "output_type": "execute_result"
    }
   ],
   "source": [
    "q14_gb = q14.groupby('CODE')\n",
    "agg_d = {'CODE' : 'count'}\n",
    "q14_agg = q14_gb.agg(agg_d)\n",
    "q14_agg"
   ]
  },
  {
   "cell_type": "code",
   "execution_count": null,
   "metadata": {},
   "outputs": [],
   "source": []
  }
 ],
 "metadata": {
  "kernelspec": {
   "display_name": "Python 3",
   "language": "python",
   "name": "python3"
  },
  "language_info": {
   "codemirror_mode": {
    "name": "ipython",
    "version": 3
   },
   "file_extension": ".py",
   "mimetype": "text/x-python",
   "name": "python",
   "nbconvert_exporter": "python",
   "pygments_lexer": "ipython3",
   "version": "3.6.3"
  }
 },
 "nbformat": 4,
 "nbformat_minor": 2
}
