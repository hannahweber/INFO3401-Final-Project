{
 "cells": [
  {
   "cell_type": "code",
   "execution_count": 1,
   "metadata": {},
   "outputs": [],
   "source": [
    "# break down the answers by award recipient type.... first figure out how to filter responses"
   ]
  },
  {
   "cell_type": "code",
   "execution_count": 1,
   "metadata": {},
   "outputs": [],
   "source": [
    "import pandas as pd\n",
    "import numpy as np\n",
    "import matplotlib.pyplot as plt"
   ]
  },
  {
   "cell_type": "code",
   "execution_count": 41,
   "metadata": {},
   "outputs": [
    {
     "data": {
      "text/html": [
       "<div>\n",
       "<style scoped>\n",
       "    .dataframe tbody tr th:only-of-type {\n",
       "        vertical-align: middle;\n",
       "    }\n",
       "\n",
       "    .dataframe tbody tr th {\n",
       "        vertical-align: top;\n",
       "    }\n",
       "\n",
       "    .dataframe thead th {\n",
       "        text-align: right;\n",
       "    }\n",
       "</style>\n",
       "<table border=\"1\" class=\"dataframe\">\n",
       "  <thead>\n",
       "    <tr style=\"text-align: right;\">\n",
       "      <th></th>\n",
       "      <th>Respondent ID</th>\n",
       "      <th>Please select the category that best describes you (you may choose more than one).</th>\n",
       "      <th>Unnamed: 2</th>\n",
       "      <th>Unnamed: 3</th>\n",
       "      <th>Unnamed: 4</th>\n",
       "      <th>Unnamed: 5</th>\n",
       "      <th>Which Award event(s) did you attend?</th>\n",
       "      <th>If you did not attend an event, please let us know why.</th>\n",
       "      <th>Who was most influential in encouraging you to apply for the NCWIT Aspirations in Computing Award?</th>\n",
       "      <th>Unnamed: 9</th>\n",
       "      <th>...</th>\n",
       "      <th>Unnamed: 23</th>\n",
       "      <th>Unnamed: 24</th>\n",
       "      <th>Unnamed: 25</th>\n",
       "      <th>Unnamed: 26</th>\n",
       "      <th>Unnamed: 27</th>\n",
       "      <th>Unnamed: 28</th>\n",
       "      <th>Unnamed: 29</th>\n",
       "      <th>Because of this Award, I am more...</th>\n",
       "      <th>Because of this Award, I am less...</th>\n",
       "      <th>Is there anything else you would like to share with us regarding the Award for Aspirations in Computing?</th>\n",
       "    </tr>\n",
       "  </thead>\n",
       "  <tbody>\n",
       "    <tr>\n",
       "      <th>0</th>\n",
       "      <td>NaN</td>\n",
       "      <td>2018 National Award Winner</td>\n",
       "      <td>2018 National Award Honorable Mention</td>\n",
       "      <td>2018 Affiliate (Regional) Award Winner</td>\n",
       "      <td>2018 Affiliate (Regional) Award Honorable Mention</td>\n",
       "      <td>2018 NCWIT Certificate of Distinction</td>\n",
       "      <td>Response</td>\n",
       "      <td>Open-Ended Response</td>\n",
       "      <td>Response</td>\n",
       "      <td>Other (please specify)</td>\n",
       "      <td>...</td>\n",
       "      <td>Increased my confidence in my ability to pursu...</td>\n",
       "      <td>Positively impacted my self-esteem.</td>\n",
       "      <td>Helped me see myself as a \"computing person.\"</td>\n",
       "      <td>Made me feel part of a community of women in c...</td>\n",
       "      <td>Fed my interest in a computing career.</td>\n",
       "      <td>Inspired me to emulate the successful women I ...</td>\n",
       "      <td>Motivated me to stay in touch with the young w...</td>\n",
       "      <td>Open-Ended Response</td>\n",
       "      <td>Open-Ended Response</td>\n",
       "      <td>Open-Ended Response</td>\n",
       "    </tr>\n",
       "  </tbody>\n",
       "</table>\n",
       "<p>1 rows × 33 columns</p>\n",
       "</div>"
      ],
      "text/plain": [
       "   Respondent ID  \\\n",
       "0            NaN   \n",
       "\n",
       "  Please select the category that best describes you (you may choose more than one).  \\\n",
       "0                         2018 National Award Winner                                   \n",
       "\n",
       "                              Unnamed: 2  \\\n",
       "0  2018 National Award Honorable Mention   \n",
       "\n",
       "                               Unnamed: 3  \\\n",
       "0  2018 Affiliate (Regional) Award Winner   \n",
       "\n",
       "                                          Unnamed: 4  \\\n",
       "0  2018 Affiliate (Regional) Award Honorable Mention   \n",
       "\n",
       "                              Unnamed: 5 Which Award event(s) did you attend?  \\\n",
       "0  2018 NCWIT Certificate of Distinction                             Response   \n",
       "\n",
       "  If you did not attend an event, please let us know why.  \\\n",
       "0                                Open-Ended Response        \n",
       "\n",
       "  Who was most influential in encouraging you to apply for the NCWIT Aspirations in Computing Award?  \\\n",
       "0                                           Response                                                   \n",
       "\n",
       "               Unnamed: 9  \\\n",
       "0  Other (please specify)   \n",
       "\n",
       "                                                    ...                                                     \\\n",
       "0                                                   ...                                                      \n",
       "\n",
       "                                         Unnamed: 23  \\\n",
       "0  Increased my confidence in my ability to pursu...   \n",
       "\n",
       "                           Unnamed: 24  \\\n",
       "0  Positively impacted my self-esteem.   \n",
       "\n",
       "                                     Unnamed: 25  \\\n",
       "0  Helped me see myself as a \"computing person.\"   \n",
       "\n",
       "                                         Unnamed: 26  \\\n",
       "0  Made me feel part of a community of women in c...   \n",
       "\n",
       "                              Unnamed: 27  \\\n",
       "0  Fed my interest in a computing career.   \n",
       "\n",
       "                                         Unnamed: 28  \\\n",
       "0  Inspired me to emulate the successful women I ...   \n",
       "\n",
       "                                         Unnamed: 29  \\\n",
       "0  Motivated me to stay in touch with the young w...   \n",
       "\n",
       "  Because of this Award, I am more... Because of this Award, I am less...  \\\n",
       "0                 Open-Ended Response                 Open-Ended Response   \n",
       "\n",
       "  Is there anything else you would like to share with us regarding the Award for Aspirations in Computing?  \n",
       "0                                Open-Ended Response                                                        \n",
       "\n",
       "[1 rows x 33 columns]"
      ]
     },
     "execution_count": 41,
     "metadata": {},
     "output_type": "execute_result"
    }
   ],
   "source": [
    "df_raw = pd.read_csv(\"2018 NCWIT Award for Aspirations in Computing Recipient.csv\")\n",
    "df_raw.head(1)"
   ]
  },
  {
   "cell_type": "code",
   "execution_count": 3,
   "metadata": {},
   "outputs": [
    {
     "name": "stdout",
     "output_type": "stream",
     "text": [
      "['2018 National Award Winner' nan]\n",
      "['2018 National Award Honorable Mention' nan]\n",
      "['2018 Affiliate (Regional) Award Winner' nan]\n",
      "['2018 Affiliate (Regional) Award Honorable Mention' nan]\n",
      "['2018 NCWIT Certificate of Distinction' nan]\n"
     ]
    }
   ],
   "source": [
    "# prints what values are in each column\n",
    "print(df_raw[\"Please select the category that best describes you (you may choose more than one).\"].unique())\n",
    "print(df_raw[\"Unnamed: 2\"].unique())\n",
    "print(df_raw[\"Unnamed: 3\"].unique())\n",
    "print(df_raw[\"Unnamed: 4\"].unique())\n",
    "print(df_raw[\"Unnamed: 5\"].unique())"
   ]
  },
  {
   "cell_type": "markdown",
   "metadata": {},
   "source": [
    "## National Award Winner"
   ]
  },
  {
   "cell_type": "code",
   "execution_count": 35,
   "metadata": {},
   "outputs": [
    {
     "name": "stdout",
     "output_type": "stream",
     "text": [
      "# of National Award Winners:  86\n"
     ]
    }
   ],
   "source": [
    "naw = df_raw[df_raw[\"Please select the category that best describes you (you may choose more than one).\"] == \"2018 National Award Winner\"]\n",
    "print(\"# of National Award Winners: \", len(naw))"
   ]
  },
  {
   "cell_type": "code",
   "execution_count": 42,
   "metadata": {},
   "outputs": [
    {
     "data": {
      "text/html": [
       "<div>\n",
       "<style scoped>\n",
       "    .dataframe tbody tr th:only-of-type {\n",
       "        vertical-align: middle;\n",
       "    }\n",
       "\n",
       "    .dataframe tbody tr th {\n",
       "        vertical-align: top;\n",
       "    }\n",
       "\n",
       "    .dataframe thead th {\n",
       "        text-align: right;\n",
       "    }\n",
       "</style>\n",
       "<table border=\"1\" class=\"dataframe\">\n",
       "  <thead>\n",
       "    <tr style=\"text-align: right;\">\n",
       "      <th></th>\n",
       "      <th>Which Award event(s) did you attend?</th>\n",
       "    </tr>\n",
       "    <tr>\n",
       "      <th>Which Award event(s) did you attend?</th>\n",
       "      <th></th>\n",
       "    </tr>\n",
       "  </thead>\n",
       "  <tbody>\n",
       "    <tr>\n",
       "      <th>Affiliate (Regional) Award</th>\n",
       "      <td>33</td>\n",
       "    </tr>\n",
       "    <tr>\n",
       "      <th>Both</th>\n",
       "      <td>14</td>\n",
       "    </tr>\n",
       "    <tr>\n",
       "      <th>National Award in Charlotte, NC</th>\n",
       "      <td>11</td>\n",
       "    </tr>\n",
       "    <tr>\n",
       "      <th>None</th>\n",
       "      <td>27</td>\n",
       "    </tr>\n",
       "    <tr>\n",
       "      <th>Response</th>\n",
       "      <td>1</td>\n",
       "    </tr>\n",
       "  </tbody>\n",
       "</table>\n",
       "</div>"
      ],
      "text/plain": [
       "                                      Which Award event(s) did you attend?\n",
       "Which Award event(s) did you attend?                                      \n",
       "Affiliate (Regional) Award                                              33\n",
       "Both                                                                    14\n",
       "National Award in Charlotte, NC                                         11\n",
       "None                                                                    27\n",
       "Response                                                                 1"
      ]
     },
     "execution_count": 42,
     "metadata": {},
     "output_type": "execute_result"
    }
   ],
   "source": [
    "# Which award event they attended\n",
    "df_gb = naw.groupby(\"Which Award event(s) did you attend?\")\n",
    "agg_d = {'Which Award event(s) did you attend?' : 'count'}\n",
    "df_agg = df_gb.agg(agg_d)\n",
    "df_agg"
   ]
  },
  {
   "cell_type": "code",
   "execution_count": 47,
   "metadata": {},
   "outputs": [
    {
     "data": {
      "text/html": [
       "<div>\n",
       "<style scoped>\n",
       "    .dataframe tbody tr th:only-of-type {\n",
       "        vertical-align: middle;\n",
       "    }\n",
       "\n",
       "    .dataframe tbody tr th {\n",
       "        vertical-align: top;\n",
       "    }\n",
       "\n",
       "    .dataframe thead th {\n",
       "        text-align: right;\n",
       "    }\n",
       "</style>\n",
       "<table border=\"1\" class=\"dataframe\">\n",
       "  <thead>\n",
       "    <tr style=\"text-align: right;\">\n",
       "      <th></th>\n",
       "      <th>Who was most influential in encouraging you to apply for the NCWIT Aspirations in Computing Award?</th>\n",
       "    </tr>\n",
       "    <tr>\n",
       "      <th>Who was most influential in encouraging you to apply for the NCWIT Aspirations in Computing Award?</th>\n",
       "      <th></th>\n",
       "    </tr>\n",
       "  </thead>\n",
       "  <tbody>\n",
       "    <tr>\n",
       "      <th>Friend</th>\n",
       "      <td>3</td>\n",
       "    </tr>\n",
       "    <tr>\n",
       "      <th>Mentor/Coach/Moderator (for example, robotics or other technology club leader)</th>\n",
       "      <td>7</td>\n",
       "    </tr>\n",
       "    <tr>\n",
       "      <th>Myself</th>\n",
       "      <td>13</td>\n",
       "    </tr>\n",
       "    <tr>\n",
       "      <th>Parent/Guardian or Family Member</th>\n",
       "      <td>7</td>\n",
       "    </tr>\n",
       "    <tr>\n",
       "      <th>Response</th>\n",
       "      <td>1</td>\n",
       "    </tr>\n",
       "    <tr>\n",
       "      <th>Teacher/Educator</th>\n",
       "      <td>55</td>\n",
       "    </tr>\n",
       "  </tbody>\n",
       "</table>\n",
       "</div>"
      ],
      "text/plain": [
       "                                                    Who was most influential in encouraging you to apply for the NCWIT Aspirations in Computing Award?\n",
       "Who was most influential in encouraging you to ...                                                                                                    \n",
       "Friend                                                                                              3                                                 \n",
       "Mentor/Coach/Moderator (for example, robotics o...                                                  7                                                 \n",
       "Myself                                                                                             13                                                 \n",
       "Parent/Guardian or Family Member                                                                    7                                                 \n",
       "Response                                                                                            1                                                 \n",
       "Teacher/Educator                                                                                   55                                                 "
      ]
     },
     "execution_count": 47,
     "metadata": {},
     "output_type": "execute_result"
    }
   ],
   "source": [
    "# Who was most influential in applying?\n",
    "df_gb = naw.groupby(\"Who was most influential in encouraging you to apply for the NCWIT Aspirations in Computing Award?\")\n",
    "agg_d = {\"Who was most influential in encouraging you to apply for the NCWIT Aspirations in Computing Award?\" : 'count'}\n",
    "df_agg = df_gb.agg(agg_d)\n",
    "df_agg"
   ]
  },
  {
   "cell_type": "code",
   "execution_count": 56,
   "metadata": {},
   "outputs": [
    {
     "data": {
      "text/html": [
       "<div>\n",
       "<style scoped>\n",
       "    .dataframe tbody tr th:only-of-type {\n",
       "        vertical-align: middle;\n",
       "    }\n",
       "\n",
       "    .dataframe tbody tr th {\n",
       "        vertical-align: top;\n",
       "    }\n",
       "\n",
       "    .dataframe thead th {\n",
       "        text-align: right;\n",
       "    }\n",
       "</style>\n",
       "<table border=\"1\" class=\"dataframe\">\n",
       "  <thead>\n",
       "    <tr style=\"text-align: right;\">\n",
       "      <th></th>\n",
       "      <th>Have you joined the NCWIT Aspirations in Computing Facebook group?</th>\n",
       "    </tr>\n",
       "    <tr>\n",
       "      <th>Have you joined the NCWIT Aspirations in Computing Facebook group?</th>\n",
       "      <th></th>\n",
       "    </tr>\n",
       "  </thead>\n",
       "  <tbody>\n",
       "    <tr>\n",
       "      <th>No</th>\n",
       "      <td>51</td>\n",
       "    </tr>\n",
       "    <tr>\n",
       "      <th>Response</th>\n",
       "      <td>1</td>\n",
       "    </tr>\n",
       "    <tr>\n",
       "      <th>Yes</th>\n",
       "      <td>34</td>\n",
       "    </tr>\n",
       "  </tbody>\n",
       "</table>\n",
       "</div>"
      ],
      "text/plain": [
       "                                                    Have you joined the NCWIT Aspirations in Computing Facebook group?\n",
       "Have you joined the NCWIT Aspirations in Comput...                                                                    \n",
       "No                                                                                                 51                 \n",
       "Response                                                                                            1                 \n",
       "Yes                                                                                                34                 "
      ]
     },
     "execution_count": 56,
     "metadata": {},
     "output_type": "execute_result"
    }
   ],
   "source": [
    "# Are they in the FB group?\n",
    "df_gb = naw.groupby('Have you joined the NCWIT Aspirations in Computing Facebook group?')\n",
    "agg_d = {'Have you joined the NCWIT Aspirations in Computing Facebook group?' : 'count'}\n",
    "df_agg = df_gb.agg(agg_d)\n",
    "df_agg"
   ]
  },
  {
   "cell_type": "code",
   "execution_count": 137,
   "metadata": {},
   "outputs": [
    {
     "data": {
      "text/plain": [
       "Please rate the following Impact items from Strongly Agree to Strongly Disagree.Being a recipient of the Award for Aspirations in Computing...    4.150\n",
       "Unnamed: 23                                                                                                                                       4.150\n",
       "Unnamed: 24                                                                                                                                       4.183\n",
       "Unnamed: 25                                                                                                                                       4.067\n",
       "Unnamed: 26                                                                                                                                       4.300\n",
       "Unnamed: 27                                                                                                                                       4.250\n",
       "Unnamed: 28                                                                                                                                       4.300\n",
       "Unnamed: 29                                                                                                                                       3.767\n",
       "dtype: float64"
      ]
     },
     "execution_count": 137,
     "metadata": {},
     "output_type": "execute_result"
    }
   ],
   "source": [
    "# Ratings for question 11\n",
    "q11 = naw[[\"Please rate the following Impact items from Strongly Agree to Strongly Disagree.Being a recipient of the Award for Aspirations in Computing...\",\n",
    "                    'Unnamed: 23', 'Unnamed: 24', 'Unnamed: 25', 'Unnamed: 26', 'Unnamed: 27', 'Unnamed: 28',\n",
    "                    \"Unnamed: 29\"]].dropna().replace(\"Strongly Disagree\", 1).replace(\"Disagree\", 2).replace(\"Neither Agree nor Disagree\", 3).replace(\"Agree\", 4).replace(\"Strongly Agree\", 5)\n",
    "#q11.head(2)\n",
    "naw_11 = q11.iloc[1:].mean().round(3)\n",
    "naw_11"
   ]
  },
  {
   "cell_type": "markdown",
   "metadata": {},
   "source": [
    "## National Award Honorable Mention"
   ]
  },
  {
   "cell_type": "code",
   "execution_count": 36,
   "metadata": {},
   "outputs": [
    {
     "name": "stdout",
     "output_type": "stream",
     "text": [
      "# of National Award Honorable Mention:  298\n"
     ]
    }
   ],
   "source": [
    "nahm = df_raw[df_raw[\"Unnamed: 2\"] == \"2018 National Award Honorable Mention\"]\n",
    "print(\"# of National Award Honorable Mention: \", len(nahm))"
   ]
  },
  {
   "cell_type": "code",
   "execution_count": 43,
   "metadata": {},
   "outputs": [
    {
     "data": {
      "text/html": [
       "<div>\n",
       "<style scoped>\n",
       "    .dataframe tbody tr th:only-of-type {\n",
       "        vertical-align: middle;\n",
       "    }\n",
       "\n",
       "    .dataframe tbody tr th {\n",
       "        vertical-align: top;\n",
       "    }\n",
       "\n",
       "    .dataframe thead th {\n",
       "        text-align: right;\n",
       "    }\n",
       "</style>\n",
       "<table border=\"1\" class=\"dataframe\">\n",
       "  <thead>\n",
       "    <tr style=\"text-align: right;\">\n",
       "      <th></th>\n",
       "      <th>Which Award event(s) did you attend?</th>\n",
       "    </tr>\n",
       "    <tr>\n",
       "      <th>Which Award event(s) did you attend?</th>\n",
       "      <th></th>\n",
       "    </tr>\n",
       "  </thead>\n",
       "  <tbody>\n",
       "    <tr>\n",
       "      <th>Affiliate (Regional) Award</th>\n",
       "      <td>177</td>\n",
       "    </tr>\n",
       "    <tr>\n",
       "      <th>Both</th>\n",
       "      <td>3</td>\n",
       "    </tr>\n",
       "    <tr>\n",
       "      <th>National Award in Charlotte, NC</th>\n",
       "      <td>3</td>\n",
       "    </tr>\n",
       "    <tr>\n",
       "      <th>None</th>\n",
       "      <td>114</td>\n",
       "    </tr>\n",
       "    <tr>\n",
       "      <th>Response</th>\n",
       "      <td>1</td>\n",
       "    </tr>\n",
       "  </tbody>\n",
       "</table>\n",
       "</div>"
      ],
      "text/plain": [
       "                                      Which Award event(s) did you attend?\n",
       "Which Award event(s) did you attend?                                      \n",
       "Affiliate (Regional) Award                                             177\n",
       "Both                                                                     3\n",
       "National Award in Charlotte, NC                                          3\n",
       "None                                                                   114\n",
       "Response                                                                 1"
      ]
     },
     "execution_count": 43,
     "metadata": {},
     "output_type": "execute_result"
    }
   ],
   "source": [
    "# Which award event they attended\n",
    "df_gb = nahm.groupby(\"Which Award event(s) did you attend?\")\n",
    "agg_d = {'Which Award event(s) did you attend?' : 'count'}\n",
    "df_agg = df_gb.agg(agg_d)\n",
    "df_agg"
   ]
  },
  {
   "cell_type": "code",
   "execution_count": 48,
   "metadata": {},
   "outputs": [
    {
     "data": {
      "text/html": [
       "<div>\n",
       "<style scoped>\n",
       "    .dataframe tbody tr th:only-of-type {\n",
       "        vertical-align: middle;\n",
       "    }\n",
       "\n",
       "    .dataframe tbody tr th {\n",
       "        vertical-align: top;\n",
       "    }\n",
       "\n",
       "    .dataframe thead th {\n",
       "        text-align: right;\n",
       "    }\n",
       "</style>\n",
       "<table border=\"1\" class=\"dataframe\">\n",
       "  <thead>\n",
       "    <tr style=\"text-align: right;\">\n",
       "      <th></th>\n",
       "      <th>Who was most influential in encouraging you to apply for the NCWIT Aspirations in Computing Award?</th>\n",
       "    </tr>\n",
       "    <tr>\n",
       "      <th>Who was most influential in encouraging you to apply for the NCWIT Aspirations in Computing Award?</th>\n",
       "      <th></th>\n",
       "    </tr>\n",
       "  </thead>\n",
       "  <tbody>\n",
       "    <tr>\n",
       "      <th>Friend</th>\n",
       "      <td>21</td>\n",
       "    </tr>\n",
       "    <tr>\n",
       "      <th>Mentor/Coach/Moderator (for example, robotics or other technology club leader)</th>\n",
       "      <td>18</td>\n",
       "    </tr>\n",
       "    <tr>\n",
       "      <th>Myself</th>\n",
       "      <td>57</td>\n",
       "    </tr>\n",
       "    <tr>\n",
       "      <th>Other (please specify)</th>\n",
       "      <td>3</td>\n",
       "    </tr>\n",
       "    <tr>\n",
       "      <th>Parent/Guardian or Family Member</th>\n",
       "      <td>33</td>\n",
       "    </tr>\n",
       "    <tr>\n",
       "      <th>Response</th>\n",
       "      <td>1</td>\n",
       "    </tr>\n",
       "    <tr>\n",
       "      <th>Teacher/Educator</th>\n",
       "      <td>164</td>\n",
       "    </tr>\n",
       "  </tbody>\n",
       "</table>\n",
       "</div>"
      ],
      "text/plain": [
       "                                                    Who was most influential in encouraging you to apply for the NCWIT Aspirations in Computing Award?\n",
       "Who was most influential in encouraging you to ...                                                                                                    \n",
       "Friend                                                                                             21                                                 \n",
       "Mentor/Coach/Moderator (for example, robotics o...                                                 18                                                 \n",
       "Myself                                                                                             57                                                 \n",
       "Other (please specify)                                                                              3                                                 \n",
       "Parent/Guardian or Family Member                                                                   33                                                 \n",
       "Response                                                                                            1                                                 \n",
       "Teacher/Educator                                                                                  164                                                 "
      ]
     },
     "execution_count": 48,
     "metadata": {},
     "output_type": "execute_result"
    }
   ],
   "source": [
    "# Who was most influential in applying?\n",
    "df_gb = nahm.groupby(\"Who was most influential in encouraging you to apply for the NCWIT Aspirations in Computing Award?\")\n",
    "agg_d = {\"Who was most influential in encouraging you to apply for the NCWIT Aspirations in Computing Award?\" : 'count'}\n",
    "df_agg = df_gb.agg(agg_d)\n",
    "df_agg"
   ]
  },
  {
   "cell_type": "code",
   "execution_count": 57,
   "metadata": {},
   "outputs": [
    {
     "data": {
      "text/html": [
       "<div>\n",
       "<style scoped>\n",
       "    .dataframe tbody tr th:only-of-type {\n",
       "        vertical-align: middle;\n",
       "    }\n",
       "\n",
       "    .dataframe tbody tr th {\n",
       "        vertical-align: top;\n",
       "    }\n",
       "\n",
       "    .dataframe thead th {\n",
       "        text-align: right;\n",
       "    }\n",
       "</style>\n",
       "<table border=\"1\" class=\"dataframe\">\n",
       "  <thead>\n",
       "    <tr style=\"text-align: right;\">\n",
       "      <th></th>\n",
       "      <th>Have you joined the NCWIT Aspirations in Computing Facebook group?</th>\n",
       "    </tr>\n",
       "    <tr>\n",
       "      <th>Have you joined the NCWIT Aspirations in Computing Facebook group?</th>\n",
       "      <th></th>\n",
       "    </tr>\n",
       "  </thead>\n",
       "  <tbody>\n",
       "    <tr>\n",
       "      <th>No</th>\n",
       "      <td>143</td>\n",
       "    </tr>\n",
       "    <tr>\n",
       "      <th>Response</th>\n",
       "      <td>1</td>\n",
       "    </tr>\n",
       "    <tr>\n",
       "      <th>Yes</th>\n",
       "      <td>153</td>\n",
       "    </tr>\n",
       "  </tbody>\n",
       "</table>\n",
       "</div>"
      ],
      "text/plain": [
       "                                                    Have you joined the NCWIT Aspirations in Computing Facebook group?\n",
       "Have you joined the NCWIT Aspirations in Comput...                                                                    \n",
       "No                                                                                                143                 \n",
       "Response                                                                                            1                 \n",
       "Yes                                                                                               153                 "
      ]
     },
     "execution_count": 57,
     "metadata": {},
     "output_type": "execute_result"
    }
   ],
   "source": [
    "# Are they in the FB group?\n",
    "df_gb = nahm.groupby('Have you joined the NCWIT Aspirations in Computing Facebook group?')\n",
    "agg_d = {'Have you joined the NCWIT Aspirations in Computing Facebook group?' : 'count'}\n",
    "df_agg = df_gb.agg(agg_d)\n",
    "df_agg"
   ]
  },
  {
   "cell_type": "code",
   "execution_count": 138,
   "metadata": {},
   "outputs": [
    {
     "data": {
      "text/plain": [
       "Please rate the following Impact items from Strongly Agree to Strongly Disagree.Being a recipient of the Award for Aspirations in Computing...    4.011\n",
       "Unnamed: 23                                                                                                                                       4.179\n",
       "Unnamed: 24                                                                                                                                       4.326\n",
       "Unnamed: 25                                                                                                                                       4.114\n",
       "Unnamed: 26                                                                                                                                       4.310\n",
       "Unnamed: 27                                                                                                                                       4.038\n",
       "Unnamed: 28                                                                                                                                       4.060\n",
       "Unnamed: 29                                                                                                                                       3.636\n",
       "dtype: float64"
      ]
     },
     "execution_count": 138,
     "metadata": {},
     "output_type": "execute_result"
    }
   ],
   "source": [
    "# Ratings for question 11\n",
    "q11 = nahm[[\"Please rate the following Impact items from Strongly Agree to Strongly Disagree.Being a recipient of the Award for Aspirations in Computing...\",\n",
    "                    'Unnamed: 23', 'Unnamed: 24', 'Unnamed: 25', 'Unnamed: 26', 'Unnamed: 27', 'Unnamed: 28',\n",
    "                    \"Unnamed: 29\"]].dropna().replace(\"Strongly Disagree\", 1).replace(\"Disagree\", 2).replace(\"Neither Agree nor Disagree\", 3).replace(\"Agree\", 4).replace(\"Strongly Agree\", 5)\n",
    "#q11.head(2)\n",
    "nahm_11 = q11.iloc[1:].mean().round(3)\n",
    "nahm_11"
   ]
  },
  {
   "cell_type": "code",
   "execution_count": null,
   "metadata": {},
   "outputs": [],
   "source": []
  },
  {
   "cell_type": "markdown",
   "metadata": {},
   "source": [
    "## Affiliate Award Winner"
   ]
  },
  {
   "cell_type": "code",
   "execution_count": 37,
   "metadata": {},
   "outputs": [
    {
     "name": "stdout",
     "output_type": "stream",
     "text": [
      "# of Affiliate Award Winners:  770\n"
     ]
    }
   ],
   "source": [
    "aaw = df_raw[df_raw[\"Unnamed: 3\"] == \"2018 Affiliate (Regional) Award Winner\"]\n",
    "print(\"# of Affiliate Award Winners: \", len(aaw))"
   ]
  },
  {
   "cell_type": "code",
   "execution_count": 44,
   "metadata": {},
   "outputs": [
    {
     "data": {
      "text/html": [
       "<div>\n",
       "<style scoped>\n",
       "    .dataframe tbody tr th:only-of-type {\n",
       "        vertical-align: middle;\n",
       "    }\n",
       "\n",
       "    .dataframe tbody tr th {\n",
       "        vertical-align: top;\n",
       "    }\n",
       "\n",
       "    .dataframe thead th {\n",
       "        text-align: right;\n",
       "    }\n",
       "</style>\n",
       "<table border=\"1\" class=\"dataframe\">\n",
       "  <thead>\n",
       "    <tr style=\"text-align: right;\">\n",
       "      <th></th>\n",
       "      <th>Which Award event(s) did you attend?</th>\n",
       "    </tr>\n",
       "    <tr>\n",
       "      <th>Which Award event(s) did you attend?</th>\n",
       "      <th></th>\n",
       "    </tr>\n",
       "  </thead>\n",
       "  <tbody>\n",
       "    <tr>\n",
       "      <th>Affiliate (Regional) Award</th>\n",
       "      <td>560</td>\n",
       "    </tr>\n",
       "    <tr>\n",
       "      <th>Both</th>\n",
       "      <td>12</td>\n",
       "    </tr>\n",
       "    <tr>\n",
       "      <th>National Award in Charlotte, NC</th>\n",
       "      <td>7</td>\n",
       "    </tr>\n",
       "    <tr>\n",
       "      <th>None</th>\n",
       "      <td>189</td>\n",
       "    </tr>\n",
       "    <tr>\n",
       "      <th>Response</th>\n",
       "      <td>1</td>\n",
       "    </tr>\n",
       "  </tbody>\n",
       "</table>\n",
       "</div>"
      ],
      "text/plain": [
       "                                      Which Award event(s) did you attend?\n",
       "Which Award event(s) did you attend?                                      \n",
       "Affiliate (Regional) Award                                             560\n",
       "Both                                                                    12\n",
       "National Award in Charlotte, NC                                          7\n",
       "None                                                                   189\n",
       "Response                                                                 1"
      ]
     },
     "execution_count": 44,
     "metadata": {},
     "output_type": "execute_result"
    }
   ],
   "source": [
    "# Which award event they attended\n",
    "df_gb = aaw.groupby(\"Which Award event(s) did you attend?\")\n",
    "agg_d = {'Which Award event(s) did you attend?' : 'count'}\n",
    "df_agg = df_gb.agg(agg_d)\n",
    "df_agg"
   ]
  },
  {
   "cell_type": "code",
   "execution_count": 53,
   "metadata": {},
   "outputs": [
    {
     "data": {
      "text/html": [
       "<div>\n",
       "<style scoped>\n",
       "    .dataframe tbody tr th:only-of-type {\n",
       "        vertical-align: middle;\n",
       "    }\n",
       "\n",
       "    .dataframe tbody tr th {\n",
       "        vertical-align: top;\n",
       "    }\n",
       "\n",
       "    .dataframe thead th {\n",
       "        text-align: right;\n",
       "    }\n",
       "</style>\n",
       "<table border=\"1\" class=\"dataframe\">\n",
       "  <thead>\n",
       "    <tr style=\"text-align: right;\">\n",
       "      <th></th>\n",
       "      <th>Who was most influential in encouraging you to apply for the NCWIT Aspirations in Computing Award?</th>\n",
       "    </tr>\n",
       "    <tr>\n",
       "      <th>Who was most influential in encouraging you to apply for the NCWIT Aspirations in Computing Award?</th>\n",
       "      <th></th>\n",
       "    </tr>\n",
       "  </thead>\n",
       "  <tbody>\n",
       "    <tr>\n",
       "      <th>Friend</th>\n",
       "      <td>42</td>\n",
       "    </tr>\n",
       "    <tr>\n",
       "      <th>Mentor/Coach/Moderator (for example, robotics or other technology club leader)</th>\n",
       "      <td>56</td>\n",
       "    </tr>\n",
       "    <tr>\n",
       "      <th>Myself</th>\n",
       "      <td>112</td>\n",
       "    </tr>\n",
       "    <tr>\n",
       "      <th>Other (please specify)</th>\n",
       "      <td>10</td>\n",
       "    </tr>\n",
       "    <tr>\n",
       "      <th>Parent/Guardian or Family Member</th>\n",
       "      <td>90</td>\n",
       "    </tr>\n",
       "    <tr>\n",
       "      <th>Response</th>\n",
       "      <td>1</td>\n",
       "    </tr>\n",
       "    <tr>\n",
       "      <th>Teacher/Educator</th>\n",
       "      <td>457</td>\n",
       "    </tr>\n",
       "  </tbody>\n",
       "</table>\n",
       "</div>"
      ],
      "text/plain": [
       "                                                    Who was most influential in encouraging you to apply for the NCWIT Aspirations in Computing Award?\n",
       "Who was most influential in encouraging you to ...                                                                                                    \n",
       "Friend                                                                                             42                                                 \n",
       "Mentor/Coach/Moderator (for example, robotics o...                                                 56                                                 \n",
       "Myself                                                                                            112                                                 \n",
       "Other (please specify)                                                                             10                                                 \n",
       "Parent/Guardian or Family Member                                                                   90                                                 \n",
       "Response                                                                                            1                                                 \n",
       "Teacher/Educator                                                                                  457                                                 "
      ]
     },
     "execution_count": 53,
     "metadata": {},
     "output_type": "execute_result"
    }
   ],
   "source": [
    "# Who was most influential in applying?\n",
    "df_gb = aaw.groupby(\"Who was most influential in encouraging you to apply for the NCWIT Aspirations in Computing Award?\")\n",
    "agg_d = {\"Who was most influential in encouraging you to apply for the NCWIT Aspirations in Computing Award?\" : 'count'}\n",
    "df_agg = df_gb.agg(agg_d)\n",
    "df_agg"
   ]
  },
  {
   "cell_type": "code",
   "execution_count": 58,
   "metadata": {},
   "outputs": [
    {
     "data": {
      "text/html": [
       "<div>\n",
       "<style scoped>\n",
       "    .dataframe tbody tr th:only-of-type {\n",
       "        vertical-align: middle;\n",
       "    }\n",
       "\n",
       "    .dataframe tbody tr th {\n",
       "        vertical-align: top;\n",
       "    }\n",
       "\n",
       "    .dataframe thead th {\n",
       "        text-align: right;\n",
       "    }\n",
       "</style>\n",
       "<table border=\"1\" class=\"dataframe\">\n",
       "  <thead>\n",
       "    <tr style=\"text-align: right;\">\n",
       "      <th></th>\n",
       "      <th>Have you joined the NCWIT Aspirations in Computing Facebook group?</th>\n",
       "    </tr>\n",
       "    <tr>\n",
       "      <th>Have you joined the NCWIT Aspirations in Computing Facebook group?</th>\n",
       "      <th></th>\n",
       "    </tr>\n",
       "  </thead>\n",
       "  <tbody>\n",
       "    <tr>\n",
       "      <th>No</th>\n",
       "      <td>387</td>\n",
       "    </tr>\n",
       "    <tr>\n",
       "      <th>Response</th>\n",
       "      <td>1</td>\n",
       "    </tr>\n",
       "    <tr>\n",
       "      <th>Yes</th>\n",
       "      <td>380</td>\n",
       "    </tr>\n",
       "  </tbody>\n",
       "</table>\n",
       "</div>"
      ],
      "text/plain": [
       "                                                    Have you joined the NCWIT Aspirations in Computing Facebook group?\n",
       "Have you joined the NCWIT Aspirations in Comput...                                                                    \n",
       "No                                                                                                387                 \n",
       "Response                                                                                            1                 \n",
       "Yes                                                                                               380                 "
      ]
     },
     "execution_count": 58,
     "metadata": {},
     "output_type": "execute_result"
    }
   ],
   "source": [
    "# Are they in the FB group?\n",
    "df_gb = aaw.groupby('Have you joined the NCWIT Aspirations in Computing Facebook group?')\n",
    "agg_d = {'Have you joined the NCWIT Aspirations in Computing Facebook group?' : 'count'}\n",
    "df_agg = df_gb.agg(agg_d)\n",
    "df_agg"
   ]
  },
  {
   "cell_type": "code",
   "execution_count": 139,
   "metadata": {},
   "outputs": [
    {
     "data": {
      "text/plain": [
       "Please rate the following Impact items from Strongly Agree to Strongly Disagree.Being a recipient of the Award for Aspirations in Computing...    3.973\n",
       "Unnamed: 23                                                                                                                                       4.203\n",
       "Unnamed: 24                                                                                                                                       4.348\n",
       "Unnamed: 25                                                                                                                                       4.100\n",
       "Unnamed: 26                                                                                                                                       4.334\n",
       "Unnamed: 27                                                                                                                                       4.040\n",
       "Unnamed: 28                                                                                                                                       4.096\n",
       "Unnamed: 29                                                                                                                                       3.512\n",
       "dtype: float64"
      ]
     },
     "execution_count": 139,
     "metadata": {},
     "output_type": "execute_result"
    }
   ],
   "source": [
    "# Ratings for question 11\n",
    "q11 = aaw[[\"Please rate the following Impact items from Strongly Agree to Strongly Disagree.Being a recipient of the Award for Aspirations in Computing...\",\n",
    "                    'Unnamed: 23', 'Unnamed: 24', 'Unnamed: 25', 'Unnamed: 26', 'Unnamed: 27', 'Unnamed: 28',\n",
    "                    \"Unnamed: 29\"]].dropna().replace(\"Strongly Disagree\", 1).replace(\"Disagree\", 2).replace(\"Neither Agree nor Disagree\", 3).replace(\"Agree\", 4).replace(\"Strongly Agree\", 5)\n",
    "#q11.head(2)\n",
    "aaw_11 = q11.iloc[1:].mean().round(3)\n",
    "aaw_11"
   ]
  },
  {
   "cell_type": "markdown",
   "metadata": {},
   "source": [
    "##  Affiliate Award Honorable Mention"
   ]
  },
  {
   "cell_type": "code",
   "execution_count": 38,
   "metadata": {},
   "outputs": [
    {
     "name": "stdout",
     "output_type": "stream",
     "text": [
      "# of Affiliate Award Honorable Mention:  484\n"
     ]
    }
   ],
   "source": [
    "ahm = df_raw[df_raw[\"Unnamed: 4\"] == \"2018 Affiliate (Regional) Award Honorable Mention\"]\n",
    "print(\"# of Affiliate Award Honorable Mention: \", len(ahm))"
   ]
  },
  {
   "cell_type": "code",
   "execution_count": 45,
   "metadata": {},
   "outputs": [
    {
     "data": {
      "text/html": [
       "<div>\n",
       "<style scoped>\n",
       "    .dataframe tbody tr th:only-of-type {\n",
       "        vertical-align: middle;\n",
       "    }\n",
       "\n",
       "    .dataframe tbody tr th {\n",
       "        vertical-align: top;\n",
       "    }\n",
       "\n",
       "    .dataframe thead th {\n",
       "        text-align: right;\n",
       "    }\n",
       "</style>\n",
       "<table border=\"1\" class=\"dataframe\">\n",
       "  <thead>\n",
       "    <tr style=\"text-align: right;\">\n",
       "      <th></th>\n",
       "      <th>Which Award event(s) did you attend?</th>\n",
       "    </tr>\n",
       "    <tr>\n",
       "      <th>Which Award event(s) did you attend?</th>\n",
       "      <th></th>\n",
       "    </tr>\n",
       "  </thead>\n",
       "  <tbody>\n",
       "    <tr>\n",
       "      <th>Affiliate (Regional) Award</th>\n",
       "      <td>299</td>\n",
       "    </tr>\n",
       "    <tr>\n",
       "      <th>Both</th>\n",
       "      <td>4</td>\n",
       "    </tr>\n",
       "    <tr>\n",
       "      <th>National Award in Charlotte, NC</th>\n",
       "      <td>2</td>\n",
       "    </tr>\n",
       "    <tr>\n",
       "      <th>None</th>\n",
       "      <td>176</td>\n",
       "    </tr>\n",
       "    <tr>\n",
       "      <th>Response</th>\n",
       "      <td>1</td>\n",
       "    </tr>\n",
       "  </tbody>\n",
       "</table>\n",
       "</div>"
      ],
      "text/plain": [
       "                                      Which Award event(s) did you attend?\n",
       "Which Award event(s) did you attend?                                      \n",
       "Affiliate (Regional) Award                                             299\n",
       "Both                                                                     4\n",
       "National Award in Charlotte, NC                                          2\n",
       "None                                                                   176\n",
       "Response                                                                 1"
      ]
     },
     "execution_count": 45,
     "metadata": {},
     "output_type": "execute_result"
    }
   ],
   "source": [
    "# Which award event they attended\n",
    "df_gb = ahm.groupby(\"Which Award event(s) did you attend?\")\n",
    "agg_d = {'Which Award event(s) did you attend?' : 'count'}\n",
    "df_agg = df_gb.agg(agg_d)\n",
    "df_agg"
   ]
  },
  {
   "cell_type": "code",
   "execution_count": 54,
   "metadata": {},
   "outputs": [
    {
     "data": {
      "text/html": [
       "<div>\n",
       "<style scoped>\n",
       "    .dataframe tbody tr th:only-of-type {\n",
       "        vertical-align: middle;\n",
       "    }\n",
       "\n",
       "    .dataframe tbody tr th {\n",
       "        vertical-align: top;\n",
       "    }\n",
       "\n",
       "    .dataframe thead th {\n",
       "        text-align: right;\n",
       "    }\n",
       "</style>\n",
       "<table border=\"1\" class=\"dataframe\">\n",
       "  <thead>\n",
       "    <tr style=\"text-align: right;\">\n",
       "      <th></th>\n",
       "      <th>Who was most influential in encouraging you to apply for the NCWIT Aspirations in Computing Award?</th>\n",
       "    </tr>\n",
       "    <tr>\n",
       "      <th>Who was most influential in encouraging you to apply for the NCWIT Aspirations in Computing Award?</th>\n",
       "      <th></th>\n",
       "    </tr>\n",
       "  </thead>\n",
       "  <tbody>\n",
       "    <tr>\n",
       "      <th>Friend</th>\n",
       "      <td>18</td>\n",
       "    </tr>\n",
       "    <tr>\n",
       "      <th>Mentor/Coach/Moderator (for example, robotics or other technology club leader)</th>\n",
       "      <td>40</td>\n",
       "    </tr>\n",
       "    <tr>\n",
       "      <th>Myself</th>\n",
       "      <td>76</td>\n",
       "    </tr>\n",
       "    <tr>\n",
       "      <th>Other (please specify)</th>\n",
       "      <td>7</td>\n",
       "    </tr>\n",
       "    <tr>\n",
       "      <th>Parent/Guardian or Family Member</th>\n",
       "      <td>48</td>\n",
       "    </tr>\n",
       "    <tr>\n",
       "      <th>Response</th>\n",
       "      <td>1</td>\n",
       "    </tr>\n",
       "    <tr>\n",
       "      <th>Teacher/Educator</th>\n",
       "      <td>291</td>\n",
       "    </tr>\n",
       "  </tbody>\n",
       "</table>\n",
       "</div>"
      ],
      "text/plain": [
       "                                                    Who was most influential in encouraging you to apply for the NCWIT Aspirations in Computing Award?\n",
       "Who was most influential in encouraging you to ...                                                                                                    \n",
       "Friend                                                                                             18                                                 \n",
       "Mentor/Coach/Moderator (for example, robotics o...                                                 40                                                 \n",
       "Myself                                                                                             76                                                 \n",
       "Other (please specify)                                                                              7                                                 \n",
       "Parent/Guardian or Family Member                                                                   48                                                 \n",
       "Response                                                                                            1                                                 \n",
       "Teacher/Educator                                                                                  291                                                 "
      ]
     },
     "execution_count": 54,
     "metadata": {},
     "output_type": "execute_result"
    }
   ],
   "source": [
    "# Who was most influential in applying?\n",
    "df_gb = ahm.groupby(\"Who was most influential in encouraging you to apply for the NCWIT Aspirations in Computing Award?\")\n",
    "agg_d = {\"Who was most influential in encouraging you to apply for the NCWIT Aspirations in Computing Award?\" : 'count'}\n",
    "df_agg = df_gb.agg(agg_d)\n",
    "df_agg"
   ]
  },
  {
   "cell_type": "code",
   "execution_count": 59,
   "metadata": {},
   "outputs": [
    {
     "data": {
      "text/html": [
       "<div>\n",
       "<style scoped>\n",
       "    .dataframe tbody tr th:only-of-type {\n",
       "        vertical-align: middle;\n",
       "    }\n",
       "\n",
       "    .dataframe tbody tr th {\n",
       "        vertical-align: top;\n",
       "    }\n",
       "\n",
       "    .dataframe thead th {\n",
       "        text-align: right;\n",
       "    }\n",
       "</style>\n",
       "<table border=\"1\" class=\"dataframe\">\n",
       "  <thead>\n",
       "    <tr style=\"text-align: right;\">\n",
       "      <th></th>\n",
       "      <th>Have you joined the NCWIT Aspirations in Computing Facebook group?</th>\n",
       "    </tr>\n",
       "    <tr>\n",
       "      <th>Have you joined the NCWIT Aspirations in Computing Facebook group?</th>\n",
       "      <th></th>\n",
       "    </tr>\n",
       "  </thead>\n",
       "  <tbody>\n",
       "    <tr>\n",
       "      <th>No</th>\n",
       "      <td>281</td>\n",
       "    </tr>\n",
       "    <tr>\n",
       "      <th>Response</th>\n",
       "      <td>1</td>\n",
       "    </tr>\n",
       "    <tr>\n",
       "      <th>Yes</th>\n",
       "      <td>199</td>\n",
       "    </tr>\n",
       "  </tbody>\n",
       "</table>\n",
       "</div>"
      ],
      "text/plain": [
       "                                                    Have you joined the NCWIT Aspirations in Computing Facebook group?\n",
       "Have you joined the NCWIT Aspirations in Comput...                                                                    \n",
       "No                                                                                                281                 \n",
       "Response                                                                                            1                 \n",
       "Yes                                                                                               199                 "
      ]
     },
     "execution_count": 59,
     "metadata": {},
     "output_type": "execute_result"
    }
   ],
   "source": [
    "# Are they in the FB group?\n",
    "df_gb = ahm.groupby('Have you joined the NCWIT Aspirations in Computing Facebook group?')\n",
    "agg_d = {'Have you joined the NCWIT Aspirations in Computing Facebook group?' : 'count'}\n",
    "df_agg = df_gb.agg(agg_d)\n",
    "df_agg"
   ]
  },
  {
   "cell_type": "code",
   "execution_count": 140,
   "metadata": {},
   "outputs": [
    {
     "data": {
      "text/plain": [
       "Please rate the following Impact items from Strongly Agree to Strongly Disagree.Being a recipient of the Award for Aspirations in Computing...    3.980\n",
       "Unnamed: 23                                                                                                                                       4.177\n",
       "Unnamed: 24                                                                                                                                       4.184\n",
       "Unnamed: 25                                                                                                                                       3.986\n",
       "Unnamed: 26                                                                                                                                       4.252\n",
       "Unnamed: 27                                                                                                                                       4.034\n",
       "Unnamed: 28                                                                                                                                       4.031\n",
       "Unnamed: 29                                                                                                                                       3.456\n",
       "dtype: float64"
      ]
     },
     "execution_count": 140,
     "metadata": {},
     "output_type": "execute_result"
    }
   ],
   "source": [
    "# Ratings for question 11\n",
    "q11 = ahm[[\"Please rate the following Impact items from Strongly Agree to Strongly Disagree.Being a recipient of the Award for Aspirations in Computing...\",\n",
    "                    'Unnamed: 23', 'Unnamed: 24', 'Unnamed: 25', 'Unnamed: 26', 'Unnamed: 27', 'Unnamed: 28',\n",
    "                    \"Unnamed: 29\"]].dropna().replace(\"Strongly Disagree\", 1).replace(\"Disagree\", 2).replace(\"Neither Agree nor Disagree\", 3).replace(\"Agree\", 4).replace(\"Strongly Agree\", 5)\n",
    "#q11.head(2)\n",
    "ahm_11 = q11.iloc[1:].mean().round(3)\n",
    "ahm_11"
   ]
  },
  {
   "cell_type": "markdown",
   "metadata": {},
   "source": [
    "## NCWIT Certificate of Distinction"
   ]
  },
  {
   "cell_type": "code",
   "execution_count": 39,
   "metadata": {},
   "outputs": [
    {
     "name": "stdout",
     "output_type": "stream",
     "text": [
      "# of NCWIT Certificate of Distinction:  209\n"
     ]
    }
   ],
   "source": [
    "cod = df_raw[df_raw[\"Unnamed: 5\"] == \"2018 NCWIT Certificate of Distinction\"]\n",
    "print(\"# of NCWIT Certificate of Distinction: \", len(cod))"
   ]
  },
  {
   "cell_type": "code",
   "execution_count": 46,
   "metadata": {},
   "outputs": [
    {
     "data": {
      "text/html": [
       "<div>\n",
       "<style scoped>\n",
       "    .dataframe tbody tr th:only-of-type {\n",
       "        vertical-align: middle;\n",
       "    }\n",
       "\n",
       "    .dataframe tbody tr th {\n",
       "        vertical-align: top;\n",
       "    }\n",
       "\n",
       "    .dataframe thead th {\n",
       "        text-align: right;\n",
       "    }\n",
       "</style>\n",
       "<table border=\"1\" class=\"dataframe\">\n",
       "  <thead>\n",
       "    <tr style=\"text-align: right;\">\n",
       "      <th></th>\n",
       "      <th>Which Award event(s) did you attend?</th>\n",
       "    </tr>\n",
       "    <tr>\n",
       "      <th>Which Award event(s) did you attend?</th>\n",
       "      <th></th>\n",
       "    </tr>\n",
       "  </thead>\n",
       "  <tbody>\n",
       "    <tr>\n",
       "      <th>Affiliate (Regional) Award</th>\n",
       "      <td>12</td>\n",
       "    </tr>\n",
       "    <tr>\n",
       "      <th>None</th>\n",
       "      <td>195</td>\n",
       "    </tr>\n",
       "    <tr>\n",
       "      <th>Response</th>\n",
       "      <td>1</td>\n",
       "    </tr>\n",
       "  </tbody>\n",
       "</table>\n",
       "</div>"
      ],
      "text/plain": [
       "                                      Which Award event(s) did you attend?\n",
       "Which Award event(s) did you attend?                                      \n",
       "Affiliate (Regional) Award                                              12\n",
       "None                                                                   195\n",
       "Response                                                                 1"
      ]
     },
     "execution_count": 46,
     "metadata": {},
     "output_type": "execute_result"
    }
   ],
   "source": [
    "# Which award event they attended\n",
    "df_gb = cod.groupby(\"Which Award event(s) did you attend?\")\n",
    "agg_d = {'Which Award event(s) did you attend?' : 'count'}\n",
    "df_agg = df_gb.agg(agg_d)\n",
    "df_agg"
   ]
  },
  {
   "cell_type": "code",
   "execution_count": 55,
   "metadata": {},
   "outputs": [
    {
     "data": {
      "text/html": [
       "<div>\n",
       "<style scoped>\n",
       "    .dataframe tbody tr th:only-of-type {\n",
       "        vertical-align: middle;\n",
       "    }\n",
       "\n",
       "    .dataframe tbody tr th {\n",
       "        vertical-align: top;\n",
       "    }\n",
       "\n",
       "    .dataframe thead th {\n",
       "        text-align: right;\n",
       "    }\n",
       "</style>\n",
       "<table border=\"1\" class=\"dataframe\">\n",
       "  <thead>\n",
       "    <tr style=\"text-align: right;\">\n",
       "      <th></th>\n",
       "      <th>Who was most influential in encouraging you to apply for the NCWIT Aspirations in Computing Award?</th>\n",
       "    </tr>\n",
       "    <tr>\n",
       "      <th>Who was most influential in encouraging you to apply for the NCWIT Aspirations in Computing Award?</th>\n",
       "      <th></th>\n",
       "    </tr>\n",
       "  </thead>\n",
       "  <tbody>\n",
       "    <tr>\n",
       "      <th>Friend</th>\n",
       "      <td>9</td>\n",
       "    </tr>\n",
       "    <tr>\n",
       "      <th>Mentor/Coach/Moderator (for example, robotics or other technology club leader)</th>\n",
       "      <td>15</td>\n",
       "    </tr>\n",
       "    <tr>\n",
       "      <th>Myself</th>\n",
       "      <td>16</td>\n",
       "    </tr>\n",
       "    <tr>\n",
       "      <th>Other (please specify)</th>\n",
       "      <td>3</td>\n",
       "    </tr>\n",
       "    <tr>\n",
       "      <th>Parent/Guardian or Family Member</th>\n",
       "      <td>19</td>\n",
       "    </tr>\n",
       "    <tr>\n",
       "      <th>Response</th>\n",
       "      <td>1</td>\n",
       "    </tr>\n",
       "    <tr>\n",
       "      <th>Teacher/Educator</th>\n",
       "      <td>145</td>\n",
       "    </tr>\n",
       "  </tbody>\n",
       "</table>\n",
       "</div>"
      ],
      "text/plain": [
       "                                                    Who was most influential in encouraging you to apply for the NCWIT Aspirations in Computing Award?\n",
       "Who was most influential in encouraging you to ...                                                                                                    \n",
       "Friend                                                                                              9                                                 \n",
       "Mentor/Coach/Moderator (for example, robotics o...                                                 15                                                 \n",
       "Myself                                                                                             16                                                 \n",
       "Other (please specify)                                                                              3                                                 \n",
       "Parent/Guardian or Family Member                                                                   19                                                 \n",
       "Response                                                                                            1                                                 \n",
       "Teacher/Educator                                                                                  145                                                 "
      ]
     },
     "execution_count": 55,
     "metadata": {},
     "output_type": "execute_result"
    }
   ],
   "source": [
    "# Who was most influential in applying?\n",
    "df_gb = cod.groupby(\"Who was most influential in encouraging you to apply for the NCWIT Aspirations in Computing Award?\")\n",
    "agg_d = {\"Who was most influential in encouraging you to apply for the NCWIT Aspirations in Computing Award?\" : 'count'}\n",
    "df_agg = df_gb.agg(agg_d)\n",
    "df_agg"
   ]
  },
  {
   "cell_type": "code",
   "execution_count": 60,
   "metadata": {},
   "outputs": [
    {
     "data": {
      "text/html": [
       "<div>\n",
       "<style scoped>\n",
       "    .dataframe tbody tr th:only-of-type {\n",
       "        vertical-align: middle;\n",
       "    }\n",
       "\n",
       "    .dataframe tbody tr th {\n",
       "        vertical-align: top;\n",
       "    }\n",
       "\n",
       "    .dataframe thead th {\n",
       "        text-align: right;\n",
       "    }\n",
       "</style>\n",
       "<table border=\"1\" class=\"dataframe\">\n",
       "  <thead>\n",
       "    <tr style=\"text-align: right;\">\n",
       "      <th></th>\n",
       "      <th>Have you joined the NCWIT Aspirations in Computing Facebook group?</th>\n",
       "    </tr>\n",
       "    <tr>\n",
       "      <th>Have you joined the NCWIT Aspirations in Computing Facebook group?</th>\n",
       "      <th></th>\n",
       "    </tr>\n",
       "  </thead>\n",
       "  <tbody>\n",
       "    <tr>\n",
       "      <th>No</th>\n",
       "      <td>181</td>\n",
       "    </tr>\n",
       "    <tr>\n",
       "      <th>Response</th>\n",
       "      <td>1</td>\n",
       "    </tr>\n",
       "    <tr>\n",
       "      <th>Yes</th>\n",
       "      <td>26</td>\n",
       "    </tr>\n",
       "  </tbody>\n",
       "</table>\n",
       "</div>"
      ],
      "text/plain": [
       "                                                    Have you joined the NCWIT Aspirations in Computing Facebook group?\n",
       "Have you joined the NCWIT Aspirations in Comput...                                                                    \n",
       "No                                                                                                181                 \n",
       "Response                                                                                            1                 \n",
       "Yes                                                                                                26                 "
      ]
     },
     "execution_count": 60,
     "metadata": {},
     "output_type": "execute_result"
    }
   ],
   "source": [
    "# Are they in the FB group?\n",
    "df_gb = cod.groupby('Have you joined the NCWIT Aspirations in Computing Facebook group?')\n",
    "agg_d = {'Have you joined the NCWIT Aspirations in Computing Facebook group?' : 'count'}\n",
    "df_agg = df_gb.agg(agg_d)\n",
    "df_agg"
   ]
  },
  {
   "cell_type": "code",
   "execution_count": 141,
   "metadata": {},
   "outputs": [
    {
     "data": {
      "text/plain": [
       "Please rate the following Impact items from Strongly Agree to Strongly Disagree.Being a recipient of the Award for Aspirations in Computing...    3.747\n",
       "Unnamed: 23                                                                                                                                       4.000\n",
       "Unnamed: 24                                                                                                                                       4.025\n",
       "Unnamed: 25                                                                                                                                       3.797\n",
       "Unnamed: 26                                                                                                                                       3.810\n",
       "Unnamed: 27                                                                                                                                       3.835\n",
       "Unnamed: 28                                                                                                                                       3.291\n",
       "Unnamed: 29                                                                                                                                       3.063\n",
       "dtype: float64"
      ]
     },
     "execution_count": 141,
     "metadata": {},
     "output_type": "execute_result"
    }
   ],
   "source": [
    "# Ratings for question 11\n",
    "q11 = cod[[\"Please rate the following Impact items from Strongly Agree to Strongly Disagree.Being a recipient of the Award for Aspirations in Computing...\",\n",
    "                    'Unnamed: 23', 'Unnamed: 24', 'Unnamed: 25', 'Unnamed: 26', 'Unnamed: 27', 'Unnamed: 28',\n",
    "                    \"Unnamed: 29\"]].dropna().replace(\"Strongly Disagree\", 1).replace(\"Disagree\", 2).replace(\"Neither Agree nor Disagree\", 3).replace(\"Agree\", 4).replace(\"Strongly Agree\", 5)\n",
    "#q11.head(2)\n",
    "cod_11 = q11.iloc[1:].mean().round(3)\n",
    "cod_11"
   ]
  },
  {
   "cell_type": "code",
   "execution_count": null,
   "metadata": {},
   "outputs": [],
   "source": []
  }
 ],
 "metadata": {
  "kernelspec": {
   "display_name": "Python 3",
   "language": "python",
   "name": "python3"
  },
  "language_info": {
   "codemirror_mode": {
    "name": "ipython",
    "version": 3
   },
   "file_extension": ".py",
   "mimetype": "text/x-python",
   "name": "python",
   "nbconvert_exporter": "python",
   "pygments_lexer": "ipython3",
   "version": "3.6.3"
  }
 },
 "nbformat": 4,
 "nbformat_minor": 2
}
